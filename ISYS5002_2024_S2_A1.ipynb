{
  "nbformat": 4,
  "nbformat_minor": 0,
  "metadata": {
    "colab": {
      "provenance": [],
      "authorship_tag": "ABX9TyPyo0iM2t+kYObxC58eWy3X",
      "include_colab_link": true
    },
    "kernelspec": {
      "name": "python3",
      "display_name": "Python 3"
    },
    "language_info": {
      "name": "python"
    }
  },
  "cells": [
    {
      "cell_type": "markdown",
      "metadata": {
        "id": "view-in-github",
        "colab_type": "text"
      },
      "source": [
        "<a href=\"https://colab.research.google.com/github/monikabuss/ISYS5002-2024-semester2/blob/main/ISYS5002_2024_S2_A1.ipynb\" target=\"_parent\"><img src=\"https://colab.research.google.com/assets/colab-badge.svg\" alt=\"Open In Colab\"/></a>"
      ]
    },
    {
      "cell_type": "code",
      "execution_count": null,
      "metadata": {
        "id": "CEhQTG-49s6P"
      },
      "outputs": [],
      "source": []
    },
    {
      "cell_type": "markdown",
      "source": [
        "aim: prediction of the likelihood of heart conditions based on\n",
        "demographic data, health metrics, and lifestyle factors\n",
        "\n",
        "task: develop an application that predicts the\n",
        "likelihood of a heart condition using user inputs such as age, gender, BMI category, smoking status, alcohol consumption status, and physical activity status\n",
        "\n",
        "**input:** age, gender, BMI category (height and weight), smoking status, alcohol consumption status, physical activity status\n",
        "\n",
        "input from user for height and weight and compute the BMI\n",
        "\n",
        "establish a reasonable combination case table for a risk\n",
        "assessment matrix to predict the presence of a heart condition based on these inputs\n",
        "\n",
        "data --> predict the risk of a heart condition according to a predefined risk assessment matrix\n",
        "\n",
        "**output**:  - heart condition prediction\n",
        "             - the data for each prediction should be stored in a CSV file\n",
        "             -  plot graphs based on this data (Provide user with at least two different visualisation options)"
      ],
      "metadata": {
        "id": "3fh6wiUD9yLF"
      }
    }
  ]
}