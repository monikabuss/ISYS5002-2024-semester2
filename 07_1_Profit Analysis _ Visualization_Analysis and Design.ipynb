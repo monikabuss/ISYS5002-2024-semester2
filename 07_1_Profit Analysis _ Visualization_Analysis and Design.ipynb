{
  "nbformat": 4,
  "nbformat_minor": 0,
  "metadata": {
    "colab": {
      "provenance": []
    },
    "kernelspec": {
      "name": "python3",
      "display_name": "Python 3"
    },
    "language_info": {
      "name": "python"
    }
  },
  "cells": [
    {
      "cell_type": "markdown",
      "source": [
        "# Instructions:\n",
        "\n",
        "Work in pair and design and develop a program for the following task.\n",
        "\n",
        "Create two notebooks:\n",
        "* an analysis and design notebook/report (which includes analysis and design  discussion)\n",
        "* a development notebook which includes pseudocode, step-by-step code developement process, testing, and any other industry best practice\n"
      ],
      "metadata": {
        "id": "9mAf65K4_5Jv"
      }
    },
    {
      "cell_type": "markdown",
      "source": [
        "# Problem Statement:\n",
        "\n",
        "You work for a global retail company that operates in various regions around the world, including the Australia and Oceania region. The company stores sales data in a CSV file named \"sales.csv,\" which contains information about sales and profits in different countries. You are tasked with developing a program to analyze sales data stored in a CSV file named \"sales.csv\" for countries within the Australia and Oceania region. The program should calculate the maximum, minimum, and average profit for each country in this region and create a bar graph displaying the total profit for each country. This visualization aims to provide insights into the financial performance of countries in the Australia and Oceania region, helping your global retail company make informed decisions."
      ],
      "metadata": {
        "id": "u-SczfmD8z4W"
      }
    },
    {
      "cell_type": "markdown",
      "source": [
        "# Input Output Description\n",
        "\n",
        "input: sales.csv\n",
        "\n",
        "output: descriptive statistic of maximum, minimum, average ouput for each country in Australia and Oceania region, bar graph displaying the total profit for each country"
      ],
      "metadata": {
        "id": "4JxB4NYu1c13"
      }
    },
    {
      "cell_type": "markdown",
      "source": [
        "# Working the Problem by hand\n",
        "\n",
        "filter countries: Australia/Oceania:\n",
        "Tuvalu\n",
        "Solomon Islands\n",
        "East Timor\n",
        "New Zealand\n",
        "Kiribati\n",
        "Australia\n",
        "Fiji\n",
        "Australia....\n",
        "\n",
        "e.g. for one country (table by hand)\n",
        "\n",
        "\n",
        "finding the min, max for each country\n",
        "\n",
        "\n",
        "calculate the average for each country\n",
        "average = val1_country1 + val2_country2 .../number_of_val"
      ],
      "metadata": {
        "id": "5i3aGWVr2Ac-"
      }
    },
    {
      "cell_type": "markdown",
      "source": [
        "# Develop the pseudocode\n",
        "1. Import pandas, matplotlib, csv\n",
        "2. importing the csv file\n",
        "3. open the csv file\n",
        "4. create the dataframe\n",
        "5. exctract the column 'region'\n",
        "6. filter table for region Australia and Oceania\n",
        "7. group by function in panda\n",
        "8. max min average giving by pandas"
      ],
      "metadata": {
        "id": "Klrttu3t713K"
      }
    },
    {
      "cell_type": "code",
      "execution_count": null,
      "metadata": {
        "id": "V5NsV1s08zON"
      },
      "outputs": [],
      "source": []
    }
  ]
}