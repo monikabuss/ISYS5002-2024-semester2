{
  "nbformat": 4,
  "nbformat_minor": 0,
  "metadata": {
    "colab": {
      "provenance": [],
      "authorship_tag": "ABX9TyNGBi7oygAHKrpp5pxqyd3X",
      "include_colab_link": true
    },
    "kernelspec": {
      "name": "python3",
      "display_name": "Python 3"
    },
    "language_info": {
      "name": "python"
    }
  },
  "cells": [
    {
      "cell_type": "markdown",
      "metadata": {
        "id": "view-in-github",
        "colab_type": "text"
      },
      "source": [
        "<a href=\"https://colab.research.google.com/github/monikabuss/ISYS5002-2024-semester2/blob/main/Code_Magnets.ipynb\" target=\"_parent\"><img src=\"https://colab.research.google.com/assets/colab-badge.svg\" alt=\"Open In Colab\"/></a>"
      ]
    },
    {
      "cell_type": "markdown",
      "source": [
        "###Head First Diner's algorithm\n",
        "\n",
        "1. Crack three eggs into bowl\n",
        "2. Whip eggs\n",
        "3. while eggs aren't fully mixed:\n",
        "4. heat sauce pan\n",
        "5. transfer eggs to pan\n",
        "6. while eggs aren't fully cooked:\n",
        "7. stir eggs\n",
        "8. if the costumer ordered cheese:\n",
        "9. add cheese on top\n",
        "10. transfer eggs to plate\n",
        "11. serve"
      ],
      "metadata": {
        "id": "DufvDxPugfCK"
      }
    }
  ]
}