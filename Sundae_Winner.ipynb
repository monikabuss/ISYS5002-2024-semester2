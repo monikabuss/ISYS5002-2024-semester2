{
  "nbformat": 4,
  "nbformat_minor": 0,
  "metadata": {
    "colab": {
      "provenance": [],
      "authorship_tag": "ABX9TyPwlgNcuu+oeQ0CV3GyWilB",
      "include_colab_link": true
    },
    "kernelspec": {
      "name": "python3",
      "display_name": "Python 3"
    },
    "language_info": {
      "name": "python"
    }
  },
  "cells": [
    {
      "cell_type": "markdown",
      "metadata": {
        "id": "view-in-github",
        "colab_type": "text"
      },
      "source": [
        "<a href=\"https://colab.research.google.com/github/monikabuss/ISYS5002-2024-semester2/blob/main/Sundae_Winner.ipynb\" target=\"_parent\"><img src=\"https://colab.research.google.com/assets/colab-badge.svg\" alt=\"Open In Colab\"/></a>"
      ]
    },
    {
      "cell_type": "markdown",
      "source": [],
      "metadata": {
        "id": "79MaulupjFdM"
      }
    },
    {
      "cell_type": "code",
      "source": [
        "customers = ['Jimmy', 'Kim', 'John', 'Stacie','Monika']"
      ],
      "metadata": {
        "id": "TbljqMz3jMO3"
      },
      "execution_count": 11,
      "outputs": []
    },
    {
      "cell_type": "code",
      "source": [
        "import random\n",
        "winner = random.choice(customers)"
      ],
      "metadata": {
        "id": "XZwKtnbDjpbZ"
      },
      "execution_count": 12,
      "outputs": []
    },
    {
      "cell_type": "code",
      "source": [
        "flavor = 'vanilla'"
      ],
      "metadata": {
        "id": "AuUt-1wdjq6Q"
      },
      "execution_count": 13,
      "outputs": []
    },
    {
      "cell_type": "code",
      "source": [
        "print('Congratulations ' + winner + ' you have won an ice cream sundae!')"
      ],
      "metadata": {
        "colab": {
          "base_uri": "https://localhost:8080/"
        },
        "id": "n1pEu8tGjtAn",
        "outputId": "00da19a1-064b-440d-caaa-831435b96957"
      },
      "execution_count": 14,
      "outputs": [
        {
          "output_type": "stream",
          "name": "stdout",
          "text": [
            "Congratulations John you have won an ice cream sundae!\n"
          ]
        }
      ]
    },
    {
      "cell_type": "code",
      "source": [
        "prompt = 'Would you like a cherry on top? '"
      ],
      "metadata": {
        "id": "zzTAq6tzjw9J"
      },
      "execution_count": 15,
      "outputs": []
    },
    {
      "cell_type": "code",
      "source": [
        "wants_cherry = input(prompt)"
      ],
      "metadata": {
        "colab": {
          "base_uri": "https://localhost:8080/"
        },
        "id": "2iFNJf70jySH",
        "outputId": "e4be6221-6da6-4a3e-9a63-65bd9eb22b4c"
      },
      "execution_count": 16,
      "outputs": [
        {
          "name": "stdout",
          "output_type": "stream",
          "text": [
            "Would you like a cherry on top? no\n"
          ]
        }
      ]
    },
    {
      "cell_type": "code",
      "source": [
        "order = flavor + ' sundae '"
      ],
      "metadata": {
        "id": "wyM-o7mojz7f"
      },
      "execution_count": 17,
      "outputs": []
    },
    {
      "cell_type": "code",
      "source": [
        "if (wants_cherry == 'yes'):\n",
        " order = order + ' with a cherry on top'"
      ],
      "metadata": {
        "id": "rSwv1Z96j1VG"
      },
      "execution_count": 18,
      "outputs": []
    },
    {
      "cell_type": "code",
      "source": [
        "print('One ' + order + ' for ' + winner +  ' coming right up...')"
      ],
      "metadata": {
        "colab": {
          "base_uri": "https://localhost:8080/"
        },
        "id": "aYfNmXkKj5PH",
        "outputId": "14ff7195-8a39-4e84-d754-0381f6cf52de"
      },
      "execution_count": 19,
      "outputs": [
        {
          "output_type": "stream",
          "name": "stdout",
          "text": [
            "One vanilla sundae  for John coming right up...\n"
          ]
        }
      ]
    }
  ]
}