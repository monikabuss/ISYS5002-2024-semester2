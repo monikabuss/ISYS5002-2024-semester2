{
  "cells": [
    {
      "cell_type": "markdown",
      "metadata": {
        "id": "view-in-github",
        "colab_type": "text"
      },
      "source": [
        "<a href=\"https://colab.research.google.com/github/monikabuss/ISYS5002-2024-semester2/blob/main/03_2_tax_calculation.ipynb\" target=\"_parent\"><img src=\"https://colab.research.google.com/assets/colab-badge.svg\" alt=\"Open In Colab\"/></a>"
      ]
    },
    {
      "cell_type": "markdown",
      "metadata": {
        "id": "bVMwNyExqHgH"
      },
      "source": [
        "# Tax Calculation\n",
        "\n",
        "Write a program the prompts the user for their income and calculates the\n",
        "tax payable based on the Australian Tax Office [Resident tax rates 2021–22\n",
        "Taxable income](https://www.ato.gov.au/rates/individual-income-tax-rates/)\n",
        "\n",
        "Income            | Tax on this income\n",
        "------------------|----------------------\n",
        "0 – \\$18,200       | Nil\n",
        "\\$18,201 – \\$45,000 | 19 cents for each \\$1 over \\$18,200\n",
        "\\$45,001 – \\$120,000 | \\$5,092 plus 32.5 cents for each \\$1 over \\$45,000\n",
        "\\$120,001 – \\$180,000 |  \\$29,467 plus 37 cents for each \\$1 over \\$120,000\n",
        "\\$180,001 and over | \\$51,667 plus 45 cents for each \\$1 over \\$180,000\n",
        "\n",
        "## Task 0 - Import notebook to GitHub\n",
        "\n",
        "First, import the notebook into Colab and save an initial copy to GitHub."
      ]
    },
    {
      "cell_type": "markdown",
      "metadata": {
        "id": "GQPi2a6VI0rf"
      },
      "source": [
        "## Task 1 - Complete Tax Payable Function\n",
        "\n",
        "When you apply the 5-step process you will end up with an algorithm. Here is a very simple algorithm to solve our simple program.  We often call this a high level overview of the problem.  We now know enough about computers and programming now to understand that these high level steps will need to be split into small steps that a computer can implement  but these high level steps make good candidates for functions.  \n",
        "\n",
        "For our tax calculation problem, if we had functions to perform the following steps, would this solve our problem?  If not what steps would you add?\n",
        "\n",
        "1. Get the income\n",
        "2. Calculate the tax payable\n",
        "3. Output tax payable"
      ]
    },
    {
      "cell_type": "code",
      "execution_count": 13,
      "metadata": {
        "id": "AuzMU2B7J-q4"
      },
      "outputs": [],
      "source": [
        "# FUNCTION: Get the income\n",
        "def get_income():\n",
        "  '''\n",
        "  This function will prompt the user for the income\n",
        "  and return the value\n",
        "  '''\n",
        "  income = int(input(\"What is your income for the year? \"))\n",
        "  print(\"Your income is \" ,income)\n",
        "  return income\n",
        "\n"
      ]
    },
    {
      "cell_type": "code",
      "source": [
        "help get_income"
      ],
      "metadata": {
        "id": "EBZItMqvnfQn"
      },
      "execution_count": null,
      "outputs": []
    },
    {
      "cell_type": "markdown",
      "metadata": {
        "id": "38kVqNCtYsqE"
      },
      "source": [
        "Using the Residents tax rate table, complete the following function"
      ]
    },
    {
      "cell_type": "code",
      "execution_count": 14,
      "metadata": {
        "id": "bIGrqfz_Mbt8"
      },
      "outputs": [],
      "source": [
        "# FUNCTION: Calculate the tax payable\n",
        "def calculate_tax(income):\n",
        "  if income <= 18200:\n",
        "    tax_payable = 0\n",
        "  elif 18201 < income <= 45000:\n",
        "    tax_payable = 0.19 * (income - 18200)\n",
        "  elif 45000 <= income < 120000:\n",
        "    tax_payable = 5092 + 0.32 * (income - 45000)\n",
        "  elif 120000 <= income < 180000:\n",
        "    tax_payable = 29467 + 0.37 *(income - 120000)\n",
        "  else:\n",
        "    tax_payable + 51667 + 0.45* (income - 180000)\n",
        "\n",
        "  return tax_payable\n"
      ]
    },
    {
      "cell_type": "code",
      "source": [
        "a = int(input(\"What is your income \"))\n",
        "calculate_tax(a)"
      ],
      "metadata": {
        "colab": {
          "base_uri": "https://localhost:8080/"
        },
        "id": "dtZxyUrqonLL",
        "outputId": "632ac01e-a21d-4cae-ab94-7510a942477a"
      },
      "execution_count": 9,
      "outputs": [
        {
          "name": "stdout",
          "output_type": "stream",
          "text": [
            "What is your income 20000\n"
          ]
        },
        {
          "output_type": "execute_result",
          "data": {
            "text/plain": [
              "342.0"
            ]
          },
          "metadata": {},
          "execution_count": 9
        }
      ]
    },
    {
      "cell_type": "markdown",
      "metadata": {
        "id": "XWIw708SYsqF"
      },
      "source": [
        "## Task 2 - Complete the program"
      ]
    },
    {
      "cell_type": "code",
      "execution_count": 16,
      "metadata": {
        "id": "pd8m2I1uMuAu",
        "colab": {
          "base_uri": "https://localhost:8080/"
        },
        "outputId": "6d36b138-bf89-45bb-ee2d-7cfbc5c865a6"
      },
      "outputs": [
        {
          "output_type": "stream",
          "name": "stdout",
          "text": [
            "Hello, this is a tax calculator\n",
            "What is your income for the year? 54260\n",
            "Your income is  54260\n",
            "your payable tax is 8055.200000000001 AUD\n"
          ]
        }
      ],
      "source": [
        "# 'Main line'\n",
        "print('Hello, this is a tax calculator')\n",
        "# Step 1 - Get the income\n",
        "income = get_income()\n",
        "\n",
        "# Step 2 - Calculate the tax\n",
        "tax = calculate_tax(income)\n",
        "\n",
        "# Step 3 - Output tax payable\n",
        "print(f'your payable tax is {tax:2} AUD' )"
      ]
    },
    {
      "cell_type": "markdown",
      "metadata": {
        "id": "NYy-cFjkYsqG"
      },
      "source": [
        "## Task 3 (Optional) - Payslip\n",
        "\n",
        "How could you use these functions with the payslip notebook?\n"
      ]
    }
  ],
  "metadata": {
    "colab": {
      "provenance": [],
      "include_colab_link": true
    },
    "kernelspec": {
      "display_name": "Python 3",
      "language": "python",
      "name": "python3"
    },
    "language_info": {
      "codemirror_mode": {
        "name": "ipython",
        "version": 3
      },
      "file_extension": ".py",
      "mimetype": "text/x-python",
      "name": "python",
      "nbconvert_exporter": "python",
      "pygments_lexer": "ipython3",
      "version": "3.8.8"
    }
  },
  "nbformat": 4,
  "nbformat_minor": 0
}