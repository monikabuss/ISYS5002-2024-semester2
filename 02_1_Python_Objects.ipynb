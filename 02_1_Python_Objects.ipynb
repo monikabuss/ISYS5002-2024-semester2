{
  "cells": [
    {
      "cell_type": "markdown",
      "metadata": {
        "id": "view-in-github",
        "colab_type": "text"
      },
      "source": [
        "<a href=\"https://colab.research.google.com/github/monikabuss/ISYS5002-2024-semester2/blob/main/02_1_Python_Objects.ipynb\" target=\"_parent\"><img src=\"https://colab.research.google.com/assets/colab-badge.svg\" alt=\"Open In Colab\"/></a>"
      ]
    },
    {
      "cell_type": "markdown",
      "id": "990c534e-ee5b-4406-ac98-d3357f3bd7ec",
      "metadata": {
        "id": "990c534e-ee5b-4406-ac98-d3357f3bd7ec"
      },
      "source": [
        "# Python Objects\n",
        "\n",
        "Computers do two things really well. ***Store values*** and ***perform operations*** on those values\n",
        "\n",
        "You might think they’re doing a whole lot more, as you send texts, shop online, or rely on your phone to navigate in your car; however, everything computers do can be broken down into simple operations that are performed on simple values.\n",
        "\n",
        "Now, part of computational thinking is learning to use these operations and values to build something that is much more sophisticated, complex, and meaningful—and we’re going to get to that.\n",
        "\n",
        "First, though, we’re going to take a look at what these values are, the operations you can perform on them, and just what role variables play in all this.\n",
        "\n",
        "# Store Values\n",
        "\n",
        "### What is a value?\n",
        "\n",
        "Because programs are written to process data, you must have a good understanding of the nature and structure of the data being processed.\n",
        "\n",
        "Data within a program may be a single value, such as a number.  In the cell below try some different numbers, say 123, or 31.7."
      ]
    },
    {
      "cell_type": "code",
      "source": [
        "number_1=123"
      ],
      "metadata": {
        "id": "wwhyX2j4CZ5t"
      },
      "id": "wwhyX2j4CZ5t",
      "execution_count": null,
      "outputs": []
    },
    {
      "cell_type": "code",
      "execution_count": null,
      "id": "a3506a0d-e007-45b1-920f-d499033baf9f",
      "metadata": {
        "id": "a3506a0d-e007-45b1-920f-d499033baf9f",
        "colab": {
          "base_uri": "https://localhost:8080/"
        },
        "outputId": "ff498668-5436-46e9-d6dd-23eceee364d3"
      },
      "outputs": [
        {
          "output_type": "stream",
          "name": "stdout",
          "text": [
            "123\n"
          ]
        }
      ],
      "source": [
        "print(number_1)"
      ]
    },
    {
      "cell_type": "code",
      "source": [
        "type(number_1)"
      ],
      "metadata": {
        "colab": {
          "base_uri": "https://localhost:8080/"
        },
        "id": "6nTkW6eXWgNe",
        "outputId": "ff754fb1-120d-44cb-9752-4990b6996133"
      },
      "id": "6nTkW6eXWgNe",
      "execution_count": null,
      "outputs": [
        {
          "output_type": "execute_result",
          "data": {
            "text/plain": [
              "int"
            ]
          },
          "metadata": {},
          "execution_count": 3
        }
      ]
    },
    {
      "cell_type": "code",
      "source": [
        "number_2=31.7"
      ],
      "metadata": {
        "id": "ew0YPvH_Wso3"
      },
      "id": "ew0YPvH_Wso3",
      "execution_count": null,
      "outputs": []
    },
    {
      "cell_type": "code",
      "source": [
        "type(number_2)"
      ],
      "metadata": {
        "colab": {
          "base_uri": "https://localhost:8080/"
        },
        "id": "KZo9mzw2Wvr1",
        "outputId": "a2dd9d3e-b7b9-4714-d0bc-34f887cd7c06"
      },
      "id": "KZo9mzw2Wvr1",
      "execution_count": null,
      "outputs": [
        {
          "output_type": "execute_result",
          "data": {
            "text/plain": [
              "float"
            ]
          },
          "metadata": {},
          "execution_count": 5
        }
      ]
    },
    {
      "cell_type": "code",
      "source": [
        "print('number_1')"
      ],
      "metadata": {
        "colab": {
          "base_uri": "https://localhost:8080/"
        },
        "id": "whFcob5vXInj",
        "outputId": "72aab438-9364-45e3-d84a-ee01fdca1119"
      },
      "id": "whFcob5vXInj",
      "execution_count": null,
      "outputs": [
        {
          "output_type": "stream",
          "name": "stdout",
          "text": [
            "number_1\n"
          ]
        }
      ]
    },
    {
      "cell_type": "code",
      "source": [
        "sum_of_1_n_2 = number_2+number_1"
      ],
      "metadata": {
        "id": "B3v6B0gdXQaT"
      },
      "id": "B3v6B0gdXQaT",
      "execution_count": null,
      "outputs": []
    },
    {
      "cell_type": "code",
      "source": [
        "type(sum_of_1_n_2)"
      ],
      "metadata": {
        "colab": {
          "base_uri": "https://localhost:8080/"
        },
        "id": "ewIfjgl6Xp6d",
        "outputId": "31814752-4196-4642-9ab0-30553483370c"
      },
      "id": "ewIfjgl6Xp6d",
      "execution_count": null,
      "outputs": [
        {
          "output_type": "execute_result",
          "data": {
            "text/plain": [
              "float"
            ]
          },
          "metadata": {},
          "execution_count": 10
        }
      ]
    },
    {
      "cell_type": "markdown",
      "id": "7e26a95d-228d-41e5-8c4e-895765bc23f7",
      "metadata": {
        "id": "7e26a95d-228d-41e5-8c4e-895765bc23f7"
      },
      "source": [
        "Data within a program may be a single value, such as a character.  Are the quotes important? Is 'A' different from 'a'?"
      ]
    },
    {
      "cell_type": "code",
      "execution_count": null,
      "id": "cbd8c919-9732-4f5d-9b82-9209aff137f6",
      "metadata": {
        "id": "cbd8c919-9732-4f5d-9b82-9209aff137f6"
      },
      "outputs": [],
      "source": [
        "name='monika'"
      ]
    },
    {
      "cell_type": "code",
      "source": [
        "type(name)"
      ],
      "metadata": {
        "colab": {
          "base_uri": "https://localhost:8080/"
        },
        "id": "ZRr9at1GYqjz",
        "outputId": "b76a0462-ba88-4fba-be1c-9a5650a03a0a"
      },
      "id": "ZRr9at1GYqjz",
      "execution_count": null,
      "outputs": [
        {
          "output_type": "execute_result",
          "data": {
            "text/plain": [
              "str"
            ]
          },
          "metadata": {},
          "execution_count": 15
        }
      ]
    },
    {
      "cell_type": "markdown",
      "id": "d6583eb9-8381-4de7-b70a-3da9bae50b5b",
      "metadata": {
        "id": "d6583eb9-8381-4de7-b70a-3da9bae50b5b"
      },
      "source": [
        "Data within a program may be a single value, such as true or false.  In programming we call the a booloean value, sometimes abbreviated as bool."
      ]
    },
    {
      "cell_type": "code",
      "execution_count": null,
      "id": "e222c1a7-963f-4ab7-8d95-02fead45cc14",
      "metadata": {
        "id": "e222c1a7-963f-4ab7-8d95-02fead45cc14"
      },
      "outputs": [],
      "source": [
        "married=False\n",
        "single=True"
      ]
    },
    {
      "cell_type": "code",
      "source": [
        "type(married)"
      ],
      "metadata": {
        "colab": {
          "base_uri": "https://localhost:8080/"
        },
        "id": "PLQnPQ8uZuZn",
        "outputId": "c9976187-fb33-43ac-fafc-78443d423a5d"
      },
      "id": "PLQnPQ8uZuZn",
      "execution_count": null,
      "outputs": [
        {
          "output_type": "execute_result",
          "data": {
            "text/plain": [
              "bool"
            ]
          },
          "metadata": {},
          "execution_count": 18
        }
      ]
    },
    {
      "cell_type": "markdown",
      "id": "6b5fad28-f83e-4071-8c07-b682f0f8a378",
      "metadata": {
        "id": "6b5fad28-f83e-4071-8c07-b682f0f8a378"
      },
      "source": [
        "Data within a program may be a group items such as a list.  The list could contian the same or different type of values."
      ]
    },
    {
      "cell_type": "code",
      "execution_count": null,
      "id": "45204b84-3142-48dc-bb82-15d07ac5bcb5",
      "metadata": {
        "id": "45204b84-3142-48dc-bb82-15d07ac5bcb5"
      },
      "outputs": [],
      "source": [
        "monika=['Monika', 'Buss',24,single]\n",
        "#first name, last name, age, status"
      ]
    },
    {
      "cell_type": "markdown",
      "id": "5f4d9675-4fac-43f3-a786-e2d82ebd3d3c",
      "metadata": {
        "id": "5f4d9675-4fac-43f3-a786-e2d82ebd3d3c"
      },
      "source": [
        "Data within a program may be a group items such as a string."
      ]
    },
    {
      "cell_type": "code",
      "execution_count": null,
      "id": "a04eb2f0-4f59-47ea-9556-3cba1c88ac1c",
      "metadata": {
        "id": "a04eb2f0-4f59-47ea-9556-3cba1c88ac1c"
      },
      "outputs": [],
      "source": [
        "friends = ['Regine', 'Miriam', 'Viki']"
      ]
    },
    {
      "cell_type": "code",
      "source": [
        "type(friends)"
      ],
      "metadata": {
        "colab": {
          "base_uri": "https://localhost:8080/"
        },
        "id": "McJkAekgb5Bg",
        "outputId": "4171d838-8aa6-4ab5-dd89-d4fe6a2b413a"
      },
      "id": "McJkAekgb5Bg",
      "execution_count": null,
      "outputs": [
        {
          "output_type": "execute_result",
          "data": {
            "text/plain": [
              "list"
            ]
          },
          "metadata": {},
          "execution_count": 23
        }
      ]
    },
    {
      "cell_type": "markdown",
      "id": "f00208cc-adc9-4a36-92b4-1d54f08c3d7a",
      "metadata": {
        "id": "f00208cc-adc9-4a36-92b4-1d54f08c3d7a"
      },
      "source": [
        "Is there a way to determine the type of an item is? In Python we have a the *`type()`* function. In the cell below, find out the type of  3, 3.0, '3', '3.0'  and [3, 3.0,'3', '3.0'].\n",
        "> We are going to use functions a lot, before long you will understand exactly how they work and even know how to create your own, but for now just think of them as a way to *ask* Python to do some work.  In the cell is known as **calling** the *type* function.  Functions have a name followed by left parenthesis, a data item and end with a right parenthesis."
      ]
    },
    {
      "cell_type": "code",
      "execution_count": null,
      "id": "112bf20b-79c2-43cd-9524-ed3fcd5ff9e0",
      "metadata": {
        "id": "112bf20b-79c2-43cd-9524-ed3fcd5ff9e0"
      },
      "outputs": [],
      "source": []
    },
    {
      "cell_type": "markdown",
      "id": "2dda7b13-5322-4cb2-9984-7707075fb87f",
      "metadata": {
        "tags": [],
        "id": "2dda7b13-5322-4cb2-9984-7707075fb87f"
      },
      "source": [
        "What are the different types?  Here is a simple table, we will expand on this later.\n",
        "\n",
        "| Data Type | Python Expressions | Description                   | Example |\n",
        "|-----------|--------------------|-------------------------------|---------|\n",
        "|integer    | int                | A whole numeber               | 143267  |\n",
        "|decimal    | float              | A floating point number       | 3.13159 |\n",
        "|string     | str                | Set of characters in quotes   | \"Hello\" |\n",
        "|boolean    | bool               | anything evaluates true/false | True    |\n",
        "|List       | list               | An ordered list of values     | [1,4,5] |\n",
        "\n",
        "\n",
        "\n",
        "### How do we store values?\n",
        "\n",
        "To be useful we need a way to store values in computer's memory.  To do this we need to be able to identify a location in memory.  We could use a memory address but that could get confusing, Instead we give the location a name, and identifier.  \n",
        "\n",
        "\n",
        "In programming we call this a variable.  A ***variable*** is the name given to a part of the computers memory, designed to store a prticular data item.\n",
        "\n",
        "\n",
        "It is called a variable because the value stored may change or vary as the program executes.\n",
        "\n",
        "\n",
        "The values we typed in above are know as literals. A **literal** is a constant whose *name* is the written representaiton of the value.  <br> A ***constant*** is a data item with a name and a value that will remain the same during the executation of a program.  We will use constants later.\n",
        "\n",
        "\n",
        "To store a value, we create a variable and then assign the value.  To assign  a value we use the equals (**=**) sign."
      ]
    },
    {
      "cell_type": "code",
      "execution_count": null,
      "id": "1a4fdd7b-c2b2-4be3-be60-98fcb3da27d9",
      "metadata": {
        "id": "1a4fdd7b-c2b2-4be3-be60-98fcb3da27d9"
      },
      "outputs": [],
      "source": [
        "var_1 = 'variable'"
      ]
    },
    {
      "cell_type": "markdown",
      "id": "0a2fb99e-a477-4f13-ae2e-510eab3e3d44",
      "metadata": {
        "id": "0a2fb99e-a477-4f13-ae2e-510eab3e3d44"
      },
      "source": [
        "What is the type of a variable?  We can use the ***type()*** function to find out.\n",
        "> Notice how we can use a *variable* just like we use a *value* in the above cells"
      ]
    },
    {
      "cell_type": "code",
      "execution_count": null,
      "id": "41ca8219-83d6-4aca-92bf-3835fdaa19fb",
      "metadata": {
        "id": "41ca8219-83d6-4aca-92bf-3835fdaa19fb",
        "colab": {
          "base_uri": "https://localhost:8080/"
        },
        "outputId": "d922416c-7d14-4972-f165-104633cf0bf7"
      },
      "outputs": [
        {
          "output_type": "execute_result",
          "data": {
            "text/plain": [
              "str"
            ]
          },
          "metadata": {},
          "execution_count": 27
        }
      ],
      "source": [
        "type(var_1)"
      ]
    },
    {
      "cell_type": "code",
      "source": [],
      "metadata": {
        "id": "5BbuJPwIPO81"
      },
      "id": "5BbuJPwIPO81",
      "execution_count": null,
      "outputs": []
    },
    {
      "cell_type": "markdown",
      "id": "56ca1fd8-bddf-4bd7-af91-6487badc429f",
      "metadata": {
        "id": "56ca1fd8-bddf-4bd7-af91-6487badc429f"
      },
      "source": [
        "We can assign group items to variables"
      ]
    },
    {
      "cell_type": "code",
      "execution_count": null,
      "id": "237a9327-373d-4224-92cf-8d922aa873a5",
      "metadata": {
        "id": "237a9327-373d-4224-92cf-8d922aa873a5"
      },
      "outputs": [],
      "source": [
        "print('The patient's name is )"
      ]
    },
    {
      "cell_type": "markdown",
      "id": "277f56d4-e52a-411d-8cae-5d0a84abde80",
      "metadata": {
        "id": "277f56d4-e52a-411d-8cae-5d0a84abde80"
      },
      "source": [
        "We can change a variable"
      ]
    },
    {
      "cell_type": "code",
      "execution_count": null,
      "id": "0256c9c6-fe19-43e6-8945-bff88804d457",
      "metadata": {
        "id": "0256c9c6-fe19-43e6-8945-bff88804d457",
        "colab": {
          "base_uri": "https://localhost:8080/"
        },
        "outputId": "3fb9b6ed-b65e-46e6-a830-b881cd088a82"
      },
      "outputs": [
        {
          "output_type": "stream",
          "name": "stdout",
          "text": [
            "other\n"
          ]
        }
      ],
      "source": [
        "surname='other'\n",
        "print(surname)"
      ]
    },
    {
      "cell_type": "markdown",
      "id": "257d6ae7-d4bf-4c75-aae3-800511733978",
      "metadata": {
        "tags": [],
        "id": "257d6ae7-d4bf-4c75-aae3-800511733978"
      },
      "source": [
        "#### Naming rules\n",
        "\n",
        "Variable names must be unique and they are case sensitive.\n",
        "* Only letters, numbers, and the underscore character (_) can be used  ```this.is.not.allowed```\n",
        "* No spaces ```this is not allowed```\n",
        "* No quotes ```“NotAllowed”```\n",
        "* Can’t start with a number ```6notAllowed```\n",
        "* Can't be a keyword  ```import```\n",
        "\n",
        "#### Naming conventions\n",
        "We will learn other naming conventions, but for now\n",
        "* variable names should be meaningful (can someone else understand)\n",
        "* seperate words with underscores ```monthly_sales```  (this is called snake_case)\n",
        "\n",
        "\n",
        "\n",
        "# Perform Operations\n",
        "\n",
        "There are six basic computer operations.\n",
        "\n",
        "1. Receive Information.\n",
        "1. Output Information.\n",
        "1. Assign a value to a variable. There are three cases where you may assign a value to variable.\n",
        "    * give data an initial value.\n",
        "    * assign a value as a results of some processing\n",
        "    * to keep a piece of information for later use.\n",
        "1. Perform arithmetic.\n",
        "1. Compare two variables and select appropriate action.\n",
        "1. Repeat a group of actions.\n",
        "\n",
        "> When designing an algorithm you need to keep in mind that the set of instruction written will eventually be performed by a computer.  That is your words and phrases in the pseudocode which are in line with computer operations, the translation form pseudocode to specific programming language becomes quite simple.\n",
        "\n",
        "## Receive Information\n",
        "\n",
        "Python has a **`input`** function that will allow you to enter information form the keyboard."
      ]
    },
    {
      "cell_type": "code",
      "execution_count": null,
      "id": "a92584fc-fa5c-4941-b747-b042849cb114",
      "metadata": {
        "id": "a92584fc-fa5c-4941-b747-b042849cb114",
        "colab": {
          "base_uri": "https://localhost:8080/"
        },
        "outputId": "d02b15ae-8a4f-4746-dbec-3db5c718fa7b"
      },
      "outputs": [
        {
          "name": "stdout",
          "output_type": "stream",
          "text": [
            "Please tell me your nationality Germany\n"
          ]
        }
      ],
      "source": [
        "nationality=input('Please tell me your nationality ')"
      ]
    },
    {
      "cell_type": "code",
      "source": [
        "print(nationality)"
      ],
      "metadata": {
        "colab": {
          "base_uri": "https://localhost:8080/"
        },
        "id": "-aTwMWvNjeYU",
        "outputId": "04b88a74-1b65-465c-e418-29377b759b26"
      },
      "id": "-aTwMWvNjeYU",
      "execution_count": null,
      "outputs": [
        {
          "output_type": "stream",
          "name": "stdout",
          "text": [
            "Germany\n"
          ]
        }
      ]
    },
    {
      "cell_type": "markdown",
      "id": "fb98df5c-aaba-47c6-b210-a69c413ed123",
      "metadata": {
        "id": "fb98df5c-aaba-47c6-b210-a69c413ed123"
      },
      "source": [
        "How does *input* work?\n",
        "1. The interpreter see the call to the ***input*** function, it take the prompt text and displays it for the user\n",
        "2. The interpreter then waits for the user to type in a repsonse, which the user completes by pressing the return key (also called the enter key)\n",
        "3. Finally the text the user types in is passed back to your code.\n",
        "\n",
        "Now, the text isn't going to be useful if we cant remember it for later.  To do this we store the *return value* to a variable"
      ]
    },
    {
      "cell_type": "code",
      "execution_count": null,
      "id": "5636b5db-1114-40bb-a88f-47874c11890e",
      "metadata": {
        "id": "5636b5db-1114-40bb-a88f-47874c11890e",
        "colab": {
          "base_uri": "https://localhost:8080/"
        },
        "outputId": "7209eca6-9410-4891-8d81-31f928a0c601"
      },
      "outputs": [
        {
          "name": "stdout",
          "output_type": "stream",
          "text": [
            "Give me your name Monika\n"
          ]
        }
      ],
      "source": [
        "name = input('Give me your name ')"
      ]
    },
    {
      "cell_type": "code",
      "source": [
        "print(name)"
      ],
      "metadata": {
        "colab": {
          "base_uri": "https://localhost:8080/"
        },
        "id": "jjhiAm8Xj-HV",
        "outputId": "62866517-e8e9-4e1e-a948-a75bc6fe2165"
      },
      "id": "jjhiAm8Xj-HV",
      "execution_count": null,
      "outputs": [
        {
          "output_type": "stream",
          "name": "stdout",
          "text": [
            "Monika\n"
          ]
        }
      ]
    },
    {
      "cell_type": "markdown",
      "id": "25087e0c-c18a-4478-b79a-01fbcefb8bc9",
      "metadata": {
        "id": "25087e0c-c18a-4478-b79a-01fbcefb8bc9"
      },
      "source": [
        "## Output Information\n",
        "\n",
        "Python has a ***print*** function that can output a message to the screen"
      ]
    },
    {
      "cell_type": "code",
      "execution_count": null,
      "id": "f600bbf8-e6d3-44f3-8301-86952bf50156",
      "metadata": {
        "id": "f600bbf8-e6d3-44f3-8301-86952bf50156"
      },
      "outputs": [],
      "source": []
    },
    {
      "cell_type": "markdown",
      "id": "5964a396-2596-47ba-b7b9-ca950cc6fa52",
      "metadata": {
        "id": "5964a396-2596-47ba-b7b9-ca950cc6fa52"
      },
      "source": [
        "The interpreter sees the call to the ***print*** function, it takes the message text and displys it to the user.\n",
        "\n",
        "Can we print variables?"
      ]
    },
    {
      "cell_type": "code",
      "execution_count": null,
      "id": "d09bdd9a-f5f0-426e-baf6-3d20472f19a5",
      "metadata": {
        "id": "d09bdd9a-f5f0-426e-baf6-3d20472f19a5"
      },
      "outputs": [],
      "source": []
    },
    {
      "cell_type": "markdown",
      "id": "77cb490e-4c83-4073-97b2-0c8ca66f0158",
      "metadata": {
        "id": "77cb490e-4c83-4073-97b2-0c8ca66f0158"
      },
      "source": [
        "As you can see the *print* function will take a **literial** or a **variable**.  We will see later that the *print* function can do more, but this is a good start.\n",
        "\n",
        "## Assign a value to a variable\n",
        "\n",
        "We have seen each of three cases, but I will repeat here for clarity.\n",
        "\n",
        "I have added some **comments** to the code.  Comments are just notes after the # marks.  We use comments to explain the purpose of the code.  Comments can be thought of as helpful pseudocode."
      ]
    },
    {
      "cell_type": "code",
      "execution_count": 2,
      "id": "9311e0b3-9933-4839-8263-a8c963bcef03",
      "metadata": {
        "id": "9311e0b3-9933-4839-8263-a8c963bcef03",
        "colab": {
          "base_uri": "https://localhost:8080/"
        },
        "outputId": "2485ee9a-698e-4c5c-ccb7-bb590652d655"
      },
      "outputs": [
        {
          "output_type": "stream",
          "name": "stdout",
          "text": [
            "what is your age? 25\n",
            "25\n"
          ]
        }
      ],
      "source": [
        "# example of giving a variable an initial value\n",
        "age=24\n",
        "\n",
        "# example of assigning a value as a result of some processing\n",
        "age = input('what is your age? ')\n",
        "\n",
        "# example of using a piece of information later\n",
        "print(age)\n"
      ]
    },
    {
      "cell_type": "markdown",
      "id": "7882c412-459a-413f-aed8-44bd52789a47",
      "metadata": {
        "id": "7882c412-459a-413f-aed8-44bd52789a47"
      },
      "source": [
        "## Perform Arithmetic\n",
        "\n",
        "\n",
        "| Operation | Description           | Example       |  Result  |\n",
        "|:---------:|-----------------------|---------------|----------|\n",
        "| ```+```   | Addition              | ```3 + 2.2``` | ```5.2```|\n",
        "| ```-```   | Subtraction           | ```5 - 2```   | ```3```  |\n",
        "| ```*```   | Multiplication        | ```3 * 8```   | ```24``` |\n",
        "| ```**```  | Raise to the power of | ```3 ** 2```  | ```9```  |\n",
        "| ```/```   | Division              | ```5/2```     | ```2.5```|\n",
        "| ```//```  | Integer Division      | ```5/2```     | ```2```  |\n",
        "| ```%```   | Modulo                | ```5%2```     | ```1```  |\n",
        "\n",
        "Use the cell below to try out some of the examples"
      ]
    },
    {
      "cell_type": "code",
      "execution_count": 3,
      "id": "4f02a3c4-92df-4b56-9699-8627467a6e14",
      "metadata": {
        "id": "4f02a3c4-92df-4b56-9699-8627467a6e14",
        "colab": {
          "base_uri": "https://localhost:8080/"
        },
        "outputId": "c924844f-95a9-4ca5-a2ac-b3352d626b9f"
      },
      "outputs": [
        {
          "output_type": "execute_result",
          "data": {
            "text/plain": [
              "5"
            ]
          },
          "metadata": {},
          "execution_count": 3
        }
      ],
      "source": [
        "3+2"
      ]
    },
    {
      "cell_type": "markdown",
      "id": "26d55bd3-e43b-4bb4-b0f9-cc3c46152ea0",
      "metadata": {
        "id": "26d55bd3-e43b-4bb4-b0f9-cc3c46152ea0"
      },
      "source": [
        "```3 + 2.2``` is called an expression.  When you evaluate an expression you can store the result into a variable"
      ]
    },
    {
      "cell_type": "code",
      "execution_count": 4,
      "id": "b9db7b35-3936-48a4-b3ae-957fc9ac6468",
      "metadata": {
        "id": "b9db7b35-3936-48a4-b3ae-957fc9ac6468"
      },
      "outputs": [],
      "source": [
        "result=3+2.2"
      ]
    },
    {
      "cell_type": "markdown",
      "id": "37f7414e-0a5f-42ba-9e21-e37ab1e1a27e",
      "metadata": {
        "id": "37f7414e-0a5f-42ba-9e21-e37ab1e1a27e"
      },
      "source": [
        "You can print expresisons"
      ]
    },
    {
      "cell_type": "code",
      "execution_count": 5,
      "id": "9bb15522-6a92-40a1-b83e-571081a9b66d",
      "metadata": {
        "id": "9bb15522-6a92-40a1-b83e-571081a9b66d",
        "colab": {
          "base_uri": "https://localhost:8080/"
        },
        "outputId": "62657d18-56fc-4cdd-ae22-a6fa030ef52b"
      },
      "outputs": [
        {
          "output_type": "stream",
          "name": "stdout",
          "text": [
            "5.2\n"
          ]
        }
      ],
      "source": [
        "print(result)\n"
      ]
    },
    {
      "cell_type": "markdown",
      "id": "99c9524a-68a8-41c9-9266-1ce1f07e39ec",
      "metadata": {
        "id": "99c9524a-68a8-41c9-9266-1ce1f07e39ec"
      },
      "source": [
        "Can perform arithmetic with variables"
      ]
    },
    {
      "cell_type": "code",
      "execution_count": 6,
      "id": "1b877516-548e-4f00-88c2-d9ce1651d2c0",
      "metadata": {
        "id": "1b877516-548e-4f00-88c2-d9ce1651d2c0",
        "colab": {
          "base_uri": "https://localhost:8080/"
        },
        "outputId": "1db96556-8d4d-44bc-c68e-800ecc098e97"
      },
      "outputs": [
        {
          "output_type": "stream",
          "name": "stdout",
          "text": [
            "12\n"
          ]
        }
      ],
      "source": [
        "v1=3\n",
        "v2=4\n",
        "v3 = v1*v2\n",
        "print(v3)"
      ]
    },
    {
      "cell_type": "markdown",
      "id": "07d15980-3e1a-4a0c-8e68-599c09591dda",
      "metadata": {
        "id": "07d15980-3e1a-4a0c-8e68-599c09591dda"
      },
      "source": [
        "Lets sum two number input form the user"
      ]
    },
    {
      "cell_type": "code",
      "execution_count": null,
      "id": "3c090a42-004e-4922-bd72-ed59ff88cb53",
      "metadata": {
        "id": "3c090a42-004e-4922-bd72-ed59ff88cb53",
        "colab": {
          "base_uri": "https://localhost:8080/"
        },
        "outputId": "44eb1d89-615e-4800-8da3-6baede7c7e1b"
      },
      "outputs": [
        {
          "name": "stdout",
          "output_type": "stream",
          "text": [
            "How much have you spend on coffee this week? 19\n",
            "How much have you spend on takeaway this week? 65\n"
          ]
        }
      ],
      "source": [
        "coffee = int(input('How much have you spend on coffee this week? '))\n",
        "takeaway = int(input('How much have you spend on takeaway this week? '))"
      ]
    },
    {
      "cell_type": "code",
      "source": [
        "type(coffee)"
      ],
      "metadata": {
        "id": "xs9MPvlBm1Ov",
        "outputId": "100268f3-f304-4559-d179-fc58c7a08664",
        "colab": {
          "base_uri": "https://localhost:8080/"
        }
      },
      "id": "xs9MPvlBm1Ov",
      "execution_count": null,
      "outputs": [
        {
          "output_type": "execute_result",
          "data": {
            "text/plain": [
              "int"
            ]
          },
          "metadata": {},
          "execution_count": 45
        }
      ]
    },
    {
      "cell_type": "code",
      "source": [
        "budget_misc=coffee+takeaway\n",
        "print('This is your spending on takeaway food and drinks:' + str(budget_misc))"
      ],
      "metadata": {
        "colab": {
          "base_uri": "https://localhost:8080/"
        },
        "id": "fo-662gylpyS",
        "outputId": "f1ec75d1-9a8a-4818-953c-a8e5023f40ff"
      },
      "id": "fo-662gylpyS",
      "execution_count": null,
      "outputs": [
        {
          "output_type": "stream",
          "name": "stdout",
          "text": [
            "This is your spending on takeaway food and drinks:84\n"
          ]
        }
      ]
    },
    {
      "cell_type": "code",
      "source": [
        "type(budget_misc)"
      ],
      "metadata": {
        "id": "Y4kll2fRm4Vb",
        "outputId": "ed5d2f68-19fb-46bf-e1b0-bf5264622b55",
        "colab": {
          "base_uri": "https://localhost:8080/"
        }
      },
      "id": "Y4kll2fRm4Vb",
      "execution_count": null,
      "outputs": [
        {
          "output_type": "execute_result",
          "data": {
            "text/plain": [
              "int"
            ]
          },
          "metadata": {},
          "execution_count": 46
        }
      ]
    },
    {
      "cell_type": "markdown",
      "id": "9e2da386-c608-408e-9dee-af674c646c06",
      "metadata": {
        "id": "9e2da386-c608-408e-9dee-af674c646c06"
      },
      "source": [
        "What happened?  It didn't add the input, it joined(concatenated) the input.  Lets run the next two cell to investigate."
      ]
    },
    {
      "cell_type": "code",
      "execution_count": null,
      "id": "43dc5d55-891a-4667-888c-63a681ba0a26",
      "metadata": {
        "id": "43dc5d55-891a-4667-888c-63a681ba0a26"
      },
      "outputs": [],
      "source": []
    },
    {
      "cell_type": "code",
      "execution_count": null,
      "id": "3abe5441-1764-49eb-9f25-ccce75269cdd",
      "metadata": {
        "id": "3abe5441-1764-49eb-9f25-ccce75269cdd"
      },
      "outputs": [],
      "source": []
    },
    {
      "cell_type": "markdown",
      "id": "2afd9f3d-c0d9-421c-bfe5-f76538b82793",
      "metadata": {
        "id": "2afd9f3d-c0d9-421c-bfe5-f76538b82793"
      },
      "source": [
        "So the data type of the variables were string.  So the *input* function must return a *str* data type.\n",
        "\n",
        "There is a way we can convert, we can use the *int* function.  So \"12\" is a string os the characters '1' followed by the character '2'.  To convert the string we use the int(\"12\"), and this will return the number 12."
      ]
    },
    {
      "cell_type": "code",
      "execution_count": null,
      "id": "c3e8c802-0638-4b59-9067-24fbb94acca6",
      "metadata": {
        "id": "c3e8c802-0638-4b59-9067-24fbb94acca6"
      },
      "outputs": [],
      "source": []
    },
    {
      "cell_type": "markdown",
      "id": "73a4d763-46da-4c8d-a61c-3acfa8e336b5",
      "metadata": {
        "id": "73a4d763-46da-4c8d-a61c-3acfa8e336b5"
      },
      "source": [
        "## Compare Two Variables\n",
        "\n",
        "Here is a simple program prints out the maximun of two numbers.  This also demonstrates some features of the Python language.\n",
        "\n",
        "> New lines are used to separate logical statements (similar to a period at the end of a sentence).\n",
        ">\n",
        "> Whitespaces (spaces and tabs) are used to indicate which statements should be grouped together (called blocks)\n",
        ">\n",
        "> Colons (:) are used to indicate the continuation of an idea at a deeper level.\n",
        "\n",
        "Try changing the numbers, and rerun the cell.  What happens if you swap **>** for **<** ?   \n",
        "\n",
        "We use a *relational operator* to ask a True/False question about the relationship between two variables.  The following table show the relational operators used in Python.\n",
        "\n",
        "\n",
        "| Operation | Description            | Example           |  Result     |\n",
        "|:---------:|------------------------|-------------------|-------------|\n",
        "| ```<```   | Less than              | ```3 < 2```       | ```False``` |\n",
        "| ```>```   | Greater than           | ```3 > 2```       | ```True```  |\n",
        "| ```<=```  | Less than or equal     | ```3 <= 2```      | ```False``` |\n",
        "| ```>=```  | greater than or equal  | ```3 >= 2```      | ```True```  |\n",
        "| ```==```  | equal to               | ```3 == 2```      | ```False``` |\n",
        "| ```!=```  | not equal to           | ```3 != 2```      | ```True```  |\n",
        "| ```not``` | not                    | ```not(3 == 2)``` | ```True```  |"
      ]
    },
    {
      "cell_type": "code",
      "execution_count": null,
      "id": "b51f5001-2df5-42d1-99e8-850a4994048a",
      "metadata": {
        "colab": {
          "base_uri": "https://localhost:8080/"
        },
        "id": "b51f5001-2df5-42d1-99e8-850a4994048a",
        "outputId": "0b0a2d2a-e455-4b3e-bdd5-fc67aed7315d"
      },
      "outputs": [
        {
          "output_type": "stream",
          "name": "stdout",
          "text": [
            "Second number is bigger\n"
          ]
        }
      ],
      "source": [
        "first_number = 30\n",
        "second_number = 23\n",
        "\n",
        "if first_number > second_number:\n",
        "  print(\"First number is bigger\")\n",
        "else:\n",
        "  print(\"Second number is bigger\")"
      ]
    },
    {
      "cell_type": "markdown",
      "id": "3f2fd3f9-31d2-49a1-84bc-9b71fe393a77",
      "metadata": {
        "id": "3f2fd3f9-31d2-49a1-84bc-9b71fe393a77"
      },
      "source": [
        "Notice the keyword are highlighted in a different colour.  This example uses a boolean expresison: ```first_number > second_number```.  A boolean expression is an *epxression* the evaluates to *True* or *False*.  The expresiosn uses a *relational operator*.  \n",
        "\n",
        " Can you write a version that prompts the user for the numbers?  What happens if you enter in the same number?"
      ]
    },
    {
      "cell_type": "code",
      "execution_count": 7,
      "id": "137a88a9-e2eb-4ace-b1cc-b7fdf260941e",
      "metadata": {
        "id": "137a88a9-e2eb-4ace-b1cc-b7fdf260941e",
        "colab": {
          "base_uri": "https://localhost:8080/"
        },
        "outputId": "5c6f774a-d1cd-441c-d4e1-fa8e67db8e1c"
      },
      "outputs": [
        {
          "output_type": "stream",
          "name": "stdout",
          "text": [
            "Second number is bigger\n"
          ]
        }
      ],
      "source": [
        "first_number = 30\n",
        "second_number = 30\n",
        "\n",
        "if first_number > second_number:\n",
        "  print(\"First number is bigger\")\n",
        "else:\n",
        "  print(\"Second number is bigger\")"
      ]
    },
    {
      "cell_type": "code",
      "execution_count": null,
      "id": "7eb27a8b-f622-456b-9a87-bd9a3073ec30",
      "metadata": {
        "id": "7eb27a8b-f622-456b-9a87-bd9a3073ec30"
      },
      "outputs": [],
      "source": []
    },
    {
      "cell_type": "markdown",
      "id": "54c8ec64-39d6-4e96-afb1-d36615f738bb",
      "metadata": {
        "id": "54c8ec64-39d6-4e96-afb1-d36615f738bb"
      },
      "source": [
        "#### Repeat a group of actions\n",
        "\n",
        "Lets say I want to print out a countdown.  I could do a print statement for each."
      ]
    },
    {
      "cell_type": "code",
      "execution_count": null,
      "id": "9e953c23-894f-48e8-a2ed-981e5e698af2",
      "metadata": {
        "id": "9e953c23-894f-48e8-a2ed-981e5e698af2"
      },
      "outputs": [],
      "source": [
        "print(10)\n",
        "print(9)\n",
        "print(8)\n",
        "print(7)\n",
        "print(6)\n",
        "print(5)\n",
        "print(4)\n",
        "print(3)\n",
        "print(2)\n",
        "print(1)\n",
        "print(\"Blast Off!\")"
      ]
    },
    {
      "cell_type": "markdown",
      "id": "eda408c4-53ac-4250-8982-4b96f62e75d8",
      "metadata": {
        "id": "eda408c4-53ac-4250-8982-4b96f62e75d8"
      },
      "source": [
        "Notice that each line is very similar, a print statement, and just printing out a different number.\n",
        "\n",
        "It turns out, repeating something is very common in programming and all languages provide way to do this easier.  In Python we can use the *for* loop. We will use a list of numbers.  Recall in Python a *list* is ordered.   There are other way to do this, but this notebook is to just give us a understanding.  We will explore loops in more detail in later notebooks."
      ]
    },
    {
      "cell_type": "code",
      "execution_count": null,
      "id": "ca532d99-2994-46f4-a3a8-64506790c51a",
      "metadata": {
        "id": "ca532d99-2994-46f4-a3a8-64506790c51a"
      },
      "outputs": [],
      "source": []
    }
  ],
  "metadata": {
    "kernelspec": {
      "display_name": "Python 3 (ipykernel)",
      "language": "python",
      "name": "python3"
    },
    "language_info": {
      "codemirror_mode": {
        "name": "ipython",
        "version": 3
      },
      "file_extension": ".py",
      "mimetype": "text/x-python",
      "name": "python",
      "nbconvert_exporter": "python",
      "pygments_lexer": "ipython3",
      "version": "3.9.7"
    },
    "colab": {
      "provenance": [],
      "include_colab_link": true
    }
  },
  "nbformat": 4,
  "nbformat_minor": 5
}