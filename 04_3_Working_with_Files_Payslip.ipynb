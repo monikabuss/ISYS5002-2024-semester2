{
  "cells": [
    {
      "cell_type": "markdown",
      "metadata": {
        "id": "view-in-github",
        "colab_type": "text"
      },
      "source": [
        "<a href=\"https://colab.research.google.com/github/monikabuss/ISYS5002-2024-semester2/blob/main/04_3_Working_with_Files_Payslip.ipynb\" target=\"_parent\"><img src=\"https://colab.research.google.com/assets/colab-badge.svg\" alt=\"Open In Colab\"/></a>"
      ]
    },
    {
      "cell_type": "markdown",
      "metadata": {
        "id": "b5IJBQVMWWWZ"
      },
      "source": [
        "# **File Input & Output**\n",
        "For program to retain data between the times it is run, you must save the data\n",
        "- Data is saved to a file, typically on computer disk\n",
        "- Saved data can be retrieved and used at a later time\n",
        "\n",
        "“***Writing data to***”: saving data on a file\n",
        "<br>***Output file***: a file that data is written to\n",
        "<br>*“**Reading data from**”*: process of retrieving data from a file\n",
        "<br>***Input file***: a file from which data is read\n",
        "\n",
        "Three steps when a program uses a file\n",
        "- Open the file\n",
        "- Process the file\n",
        "- Close the file\n",
        "\n",
        "**Types of files**\n",
        "<br>\n",
        "- A **text file** is a sequence of characters\n",
        "- A **binary file** (for images, videos and more) is a sequence of bytes\n",
        "- First character in a text file or byte in a binary file is located at position 0\n",
        "  - In a file of n characters or bytes, the highest position number is n – 1 (**end-of-file marker**)\n",
        "- For each file you **open**, Python creates a **file object** that you’ll use to interact with the file\n",
        "\n",
        "\n",
        "**Comma-separated values (CSV) file**\n",
        "- CSV files are the most common format used for importing and exporting data from spreadsheets and databases.\n",
        "- CSV files are text files that have delimiters. A delimiter is a character that separates data values.\n",
        "\n"
      ]
    },
    {
      "cell_type": "markdown",
      "source": [
        "# CSV File"
      ],
      "metadata": {
        "id": "BieUazgSLMeI"
      }
    },
    {
      "cell_type": "markdown",
      "metadata": {
        "id": "KiOs3fgB9CD8"
      },
      "source": [
        "## Reading and Writing CSV file\n",
        "\n",
        "Text files work fine when we are referencing small amounts of information, but when we use larger amounts of data, adding structure helps in organizing and retrieving values.\n",
        "\n",
        "One common format found in business and social sciences alike (as well as any field concerned with data science) is the comma-separated values (CSV) format.\n",
        "\n",
        "**CSV files** are the most common format used for importing and exporting data from spreadsheets and databases.\n",
        "\n",
        "CSV files are text files that have delimiters.  A **delimiter** is a character that separates data values.\n",
        "\n",
        "You can explore CSV files in spreadsheet software (such as Microsoft Excel), which will remove delimiters (usually commas) and store data values in separate cells.\n",
        "\n",
        "\n",
        "One of the benefits of importing data files such as CSV files is the ability to read in a lot of data at once, parsing the data so your code can access individual values within the data. **By default, CSV files use commas (“,”) to separate data values**.\n",
        "\n"
      ]
    },
    {
      "cell_type": "markdown",
      "source": [
        "Imports the built-in **`csv` module** for working with CSV (Comma Separated Values) files, which are a common file format used for storing tabular data."
      ],
      "metadata": {
        "id": "W8IeHiwhoKPV"
      }
    },
    {
      "cell_type": "code",
      "source": [
        "#import csv module\n",
        "import csv"
      ],
      "metadata": {
        "id": "HzELdjjOlqYW"
      },
      "execution_count": null,
      "outputs": []
    },
    {
      "cell_type": "markdown",
      "source": [
        "## Writing data to file"
      ],
      "metadata": {
        "id": "gdPyuSMuGqlT"
      }
    },
    {
      "cell_type": "code",
      "source": [
        "#Writing to a CSV file\n",
        "\n",
        "#open file and write records\n",
        "with open(\"sales_data.csv\", 'w') as sales_data:\n",
        "\n",
        "  '''\n",
        "  Creates a writer object which will convert the user’s data into\n",
        "  delimited strings on the given file-like object (payslip_data).\n",
        "  '''\n",
        "  writer = csv.writer(sales_data) # 'writer' object write data to the CSV file opened\n",
        "\n",
        "  writer.writerow(['name', 'salary', 'sales'])\n",
        "\n",
        "  writer.writerow(['Ram', '25000', '20000'])\n",
        "  writer.writerow(['Radha', '30000', '40000'])\n",
        "\n",
        "  # continue for for three more data\n",
        "\n"
      ],
      "metadata": {
        "id": "QHHhkU2aD6hU"
      },
      "execution_count": null,
      "outputs": []
    },
    {
      "cell_type": "markdown",
      "source": [
        "### Generalise it - User Input Storage in File\n",
        "\n",
        "Take input form user and write to file"
      ],
      "metadata": {
        "id": "4uhKJwVJGfEh"
      }
    },
    {
      "cell_type": "code",
      "source": [
        "import csv\n",
        "\n",
        "\n",
        "with open(\"payslip_data.csv\", 'w') as payslip_data:\n",
        "  writer = csv.writer(payslip_data) # 'writer' object write data to the CSV file opened\n",
        "  writer.writerow(['name', 'salary', 'sales', 'comm_rate'])\n",
        "\n",
        "  # get user input - name\n",
        "  name = input(\"Please enter name: \")\n",
        "\n",
        "  # get user input for salary\n",
        "  salary = int(input(\"Please enter salary: \"))\n",
        "\n",
        "  # get user input for sales\n",
        "  sales = int(input(\"Please enter sales: \"))\n",
        "\n",
        "  # get user input for commission\n",
        "  comm_rate = float(input(\"Please enter commission rate: \"))\n",
        "\n",
        "  # write user data to file\n",
        "  writer.writerow([name, salary, sales, comm_rate])\n",
        "\n",
        "\n"
      ],
      "metadata": {
        "id": "y9nnaTCQJABT"
      },
      "execution_count": null,
      "outputs": []
    },
    {
      "cell_type": "markdown",
      "source": [
        "### Dynamic Data Collection\n",
        "Modify the code to prompt the user to decide if they want to continue."
      ],
      "metadata": {
        "id": "66kVOTaSJUUT"
      }
    },
    {
      "cell_type": "code",
      "source": [
        "0with open(\"payslip_data.csv\", 'w', newline = '') as payslip_data:\n",
        "  writer = csv.writer(payslip_data) # 'writer' object write data to the CSV file opened\n",
        "  writer.writerow(['name', 'salary', 'sales', 'comm_rate'])\n",
        "\n",
        "  while True:\n",
        "      # get user input - name\n",
        "      name = input(\"Please enter name: \")\n",
        "\n",
        "      # get user input for salary\n",
        "      salary = int(input(\"Please enter salary: \"))\n",
        "\n",
        "      # get user input for sales\n",
        "      sales = int(input(\"Please enter sales: \"))\n",
        "\n",
        "      # get user input for commission\n",
        "      comm_rate = float(input(\"Please enter commission rate: \"))\n",
        "      # write user data to file\n",
        "      writer.writerow([name, salary, sales, comm_rate])\n",
        "\n",
        "      continue_input = input(\"Do you want to add another entry? (y/n): \")\n",
        "      if continue_input == 'n':\n",
        "        break"
      ],
      "metadata": {
        "id": "hS4CTcxiFKLU",
        "colab": {
          "base_uri": "https://localhost:8080/"
        },
        "outputId": "a8fdd81b-33d0-468a-ff1f-ca91b1a377c1"
      },
      "execution_count": null,
      "outputs": [
        {
          "name": "stdout",
          "output_type": "stream",
          "text": [
            "Please enter name: monika\n",
            "Please enter salary: 50000\n",
            "Please enter sales: 200\n",
            "Please enter commission rate: 0.3\n",
            "Do you want to add another entry? (y/n): y\n",
            "Please enter name: ena\n",
            "Please enter salary: 30000\n",
            "Please enter sales: 400\n",
            "Please enter commission rate: .4\n",
            "Do you want to add another entry? (y/n): n\n"
          ]
        }
      ]
    },
    {
      "cell_type": "markdown",
      "source": [
        "## Reading data from file"
      ],
      "metadata": {
        "id": "n5ezYXDPGxMK"
      }
    },
    {
      "cell_type": "code",
      "source": [
        "with open('sales_data.csv', 'r') as file:\n",
        "    csvreader = csv.reader(file)\n",
        "\n",
        "    for row in csvreader:\n",
        "        print(row) # print each row in the file\n"
      ],
      "metadata": {
        "id": "Uqb_T9GyyiQ7",
        "colab": {
          "base_uri": "https://localhost:8080/"
        },
        "outputId": "8cc1f97f-7a1a-433b-d2db-34b1ddf72b30"
      },
      "execution_count": null,
      "outputs": [
        {
          "output_type": "stream",
          "name": "stdout",
          "text": [
            "['name', 'salary', 'sales']\n",
            "['Ram', '25000', '20000']\n",
            "['Radha', '30000', '40000']\n"
          ]
        }
      ]
    },
    {
      "cell_type": "code",
      "source": [
        "# remove the header\n",
        "with open('sales_data.csv', 'r') as file:\n",
        "    csvreader = csv.reader(file)\n",
        "    next(csvreader)  # Skip the header row\n",
        "\n",
        "    for row in csvreader:\n",
        "        print(row) # print each row in the file"
      ],
      "metadata": {
        "id": "SusT2sSN6WQK",
        "colab": {
          "base_uri": "https://localhost:8080/"
        },
        "outputId": "1ba807d6-a3fb-47ca-d52e-1c9657dd0733"
      },
      "execution_count": null,
      "outputs": [
        {
          "output_type": "stream",
          "name": "stdout",
          "text": [
            "['Ram', '25000', '20000']\n",
            "['Radha', '30000', '40000']\n"
          ]
        }
      ]
    },
    {
      "cell_type": "markdown",
      "source": [
        "### File Data Reading and Processing"
      ],
      "metadata": {
        "id": "88ulKsDaG2qr"
      }
    },
    {
      "cell_type": "code",
      "source": [
        "import csv\n",
        "\n",
        "names = []\n",
        "sales = []\n",
        "\n",
        "# Read data from the CSV file\n",
        "with open('sales_data.csv', 'r') as file:\n",
        "    reader = csv.reader(file)\n",
        "    next(reader)  # Skip the header row\n",
        "    for row in reader:\n",
        "        names.append(row[0])  # Name is in the first column\n",
        "        sales.append(int(row[2]))  # Sales are in the third column\n",
        "\n",
        "print(names)\n",
        "print(sales)\n"
      ],
      "metadata": {
        "id": "cOlKHMF_0jUq",
        "colab": {
          "base_uri": "https://localhost:8080/"
        },
        "outputId": "ff4aa974-e214-4d97-8ab2-cf6bc003c4dd"
      },
      "execution_count": null,
      "outputs": [
        {
          "output_type": "stream",
          "name": "stdout",
          "text": [
            "['Ram', 'Radha']\n",
            "[20000, 40000]\n"
          ]
        }
      ]
    },
    {
      "cell_type": "markdown",
      "source": [
        "### Plotting graph"
      ],
      "metadata": {
        "id": "tRGjfkR7Jm74"
      }
    },
    {
      "cell_type": "code",
      "source": [
        "import matplotlib.pyplot as plt\n",
        "\n",
        "# Plotting the graph\n",
        "plt.figure(figsize=(5, 5))  # Set the figure size\n",
        "plt.bar(names, sales, color='blue')\n",
        "plt.xlabel('Name')\n",
        "plt.ylabel('Sales')\n",
        "plt.title('Sales by Name')\n",
        "plt.xticks(rotation=45)  # Rotate names for better visibility\n",
        "plt.show()"
      ],
      "metadata": {
        "id": "fNKqKnCr03Hh",
        "colab": {
          "base_uri": "https://localhost:8080/",
          "height": 514
        },
        "outputId": "5ef802c7-03fa-4698-bc12-89399e29e127"
      },
      "execution_count": null,
      "outputs": [
        {
          "output_type": "display_data",
          "data": {
            "text/plain": [
              "<Figure size 500x500 with 1 Axes>"
            ],
            "image/png": "[encoded data removed]"
          },
          "metadata": {}
        }
      ]
    },
    {
      "cell_type": "markdown",
      "source": [
        "## **Task:** Modify the payslip program to store the calculated commission, tax and net pay"
      ],
      "metadata": {
        "id": "f7P28AlgCeSp"
      }
    },
    {
      "cell_type": "code",
      "source": [
        "def calculate_pay(salary,sales, comm_rate):\n",
        "    commission = comm_rate * sales\n",
        "    tax = (salary + commission) * 0.02\n",
        "    pay = salary + commission - tax\n",
        "    return pay, commission, tax\n",
        "  #salary, commission= sales * commission rate, tax"
      ],
      "metadata": {
        "id": "fQwezBrdkuby"
      },
      "execution_count": 28,
      "outputs": []
    },
    {
      "cell_type": "code",
      "source": [
        "\n",
        "with open(\"payslip_data.csv\", 'w', newline = '') as payslip_data:\n",
        "  writer = csv.writer(payslip_data) # 'writer' object write data to the CSV file opened\n",
        "  writer.writerow(['name', 'salary', 'sales', 'comm_rate',  'commission', 'tax', 'net_pay'])\n",
        "\n",
        "  while True:\n",
        "      # get user input - name\n",
        "      name = input(\"Please enter name: \")\n",
        "\n",
        "      # get user input for salary\n",
        "      salary = int(input(\"Please enter salary: \"))\n",
        "\n",
        "      # get user input for sales\n",
        "      sales = int(input(\"Please enter sales: \"))\n",
        "\n",
        "      # get user input for commission\n",
        "      comm_rate = float(input(\"Please enter commission rate: \"))\n",
        "\n",
        "      pay, commission, tax = calculate_pay(salary, sales, comm_rate)\n",
        "# write user data to file\n",
        "      writer.writerow([name, salary, sales, comm_rate, commission, tax, pay])\n",
        "\n",
        "      continue_input = input(\"Do you want to add another entry? (y/n): \")\n",
        "      if continue_input == 'n':\n",
        "        break\n",
        "\n",
        ""
      ],
      "metadata": {
        "id": "DqxqoZ6XDJsy",
        "colab": {
          "base_uri": "https://localhost:8080/"
        },
        "outputId": "2e0be69e-61f5-4dfc-c1ee-3f195895df4b"
      },
      "execution_count": 30,
      "outputs": [
        {
          "name": "stdout",
          "output_type": "stream",
          "text": [
            "Please enter name: monika\n",
            "Please enter salary: 50000\n",
            "Please enter sales: 300\n",
            "Please enter commission rate: 0.5\n",
            "Do you want to add another entry? (y/n): y\n",
            "Please enter name: jakob\n",
            "Please enter salary: 40000\n",
            "Please enter sales: 700\n",
            "Please enter commission rate: 0.7\n",
            "Do you want to add another entry? (y/n): n\n"
          ]
        }
      ]
    }
  ],
  "metadata": {
    "colab": {
      "provenance": [],
      "include_colab_link": true
    },
    "kernelspec": {
      "display_name": "Python 3",
      "name": "python3"
    },
    "language_info": {
      "name": "python"
    }
  },
  "nbformat": 4,
  "nbformat_minor": 0
}