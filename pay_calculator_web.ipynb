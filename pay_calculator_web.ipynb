{
  "nbformat": 4,
  "nbformat_minor": 0,
  "metadata": {
    "colab": {
      "provenance": [],
      "include_colab_link": true
    },
    "kernelspec": {
      "name": "python3",
      "display_name": "Python 3"
    },
    "language_info": {
      "name": "python"
    }
  },
  "cells": [
    {
      "cell_type": "markdown",
      "metadata": {
        "id": "view-in-github",
        "colab_type": "text"
      },
      "source": [
        "<a href=\"https://colab.research.google.com/github/monikabuss/ISYS5002-2024-semester2/blob/main/pay_calculator_web.ipynb\" target=\"_parent\"><img src=\"https://colab.research.google.com/assets/colab-badge.svg\" alt=\"Open In Colab\"/></a>"
      ]
    },
    {
      "cell_type": "markdown",
      "source": [
        "# Pay Calculator\n",
        "\n",
        "The 'WEB' is an alternative interface.  All you need is a browser to access the webpage.  Python has a few WEB frameworks, but we will use cherrypy in this example. It is lightweight microframe work and relatively easy to use compared to other frameworks.  \n",
        "\n",
        "This example is a proof of concept and does not do any input validation etc.   Once the server has started, click on the **first URL/Link** below and new page will open show the Web version of Pay Calculator."
      ],
      "metadata": {
        "id": "U19jneZPPOk6"
      }
    },
    {
      "cell_type": "code",
      "source": [
        "#@title\n",
        "def calculate_ato_tax(income):\n",
        "  '''\n",
        "  Calculate the tax payable on yearly income based on the Australian Tax\n",
        "  Office Resident tax rates 2021–22 Taxable Income\n",
        "  '''\n",
        "  tax_payable = 0 # if income <= 18200:\n",
        "  if 18201 <= income <= 45000:\n",
        "    tax_payable = 0.19 * (income - 18200)\n",
        "  elif 45001 <= income <= 120000:\n",
        "    tax_payable = 5092 + 0.32 * (income - 45000)\n",
        "  elif 120001 <= income <= 180000:\n",
        "    tax_payable = 29467 + 0.37 * (income - 120000)\n",
        "  elif income >= 180001:\n",
        "    tax_payable = 51667 + 0.45 * (income - 180000)\n",
        "  return tax_payable\n",
        "\n",
        "def print_payslip(name, date, salary, sales):\n",
        "  commission = sales * 0.02\n",
        "  earnings = salary + commission\n",
        "  income = earnings * 52\n",
        "  tax = calculate_ato_tax(income) / 52\n",
        "  pay = earnings - tax\n",
        "\n",
        "  return f'''Payslip of {name} for week {date} <br>\n",
        "  Weekly Salary: ${salary:.2f} Commission: ${commission:.2f} Tax: ${tax:.2f} <br>\n",
        "  Take Home Pay ${pay:.2f}'''\n",
        "\n",
        "\n",
        "# Setup the web interface\n",
        "from google.colab import output\n",
        "print(\"CLICK THIS LINK --> \", output.eval_js(\"google.colab.kernel.proxyPort(8099)\"),'\\n\\n')\n",
        "\n",
        "# Install web framework\n",
        "!pip install cherrypy > /dev/null 2>&1\n",
        "import cherrypy\n",
        "\n",
        "# Create web page\n",
        "class application:\n",
        "    @cherrypy.expose\n",
        "    def index(self, name=None, date=None, salary=None,sales=None):\n",
        "        text = ''\n",
        "        if name:\n",
        "          text = print_payslip(name, date, float(salary), float(sales))\n",
        "        return f\"\"\"<html>\n",
        "          <head></head>\n",
        "          <body>\n",
        "            <main>\n",
        "                <h1>Pay Calculator</h1>\n",
        "                <p>Please enter the following details:<br>\n",
        "\n",
        "                <form method=\"get\" action=\"index\">\n",
        "                  <label for=\"name\">Name:</label>\n",
        "                  <input type=\"text\" name=\"name\" placeholder=\"Your Name\"/><br>\n",
        "                  <label for=\"date\">Date:</label>\n",
        "                  <input type=\"text\" name=\"date\" placeholder=\"dd/mm/yyyy\"/><br>\n",
        "                  <label for=\"salary\">Salary:</label>\n",
        "                  <input type=\"text\" name=\"salary\" placeholder=\"4000\"/><br>\n",
        "                  <label for=\"sales\">Sales:</label>\n",
        "                  <input type=\"text\" name=\"sales\" placeholder=\"1000\"/><br>\n",
        "                  <button type=\"submit\">Submit</button>\n",
        "                </form>\n",
        "\n",
        "                <p>{text}</p>\n",
        "            </main>\n",
        "\n",
        "            <style>\n",
        "              main {{\n",
        "                max-width: 300px;\n",
        "                margin: auto;\n",
        "              }}\n",
        "\n",
        "              label {{\n",
        "                display: inline-block;\n",
        "                text-align: right;\n",
        "                width: 50px;\n",
        "              }}\n",
        "\n",
        "              input[type=\"text\"]{{\n",
        "                  display: inline-block;\n",
        "                  margin-bottom: 5px;\n",
        "                  margin-left: 5px\n",
        "              }}\n",
        "            </style>\n",
        "\n",
        "           </body>\n",
        "        </html>\"\"\"\n",
        "\n",
        "# start web server\n",
        "cherrypy.config.update( {'server.socket_host':\"0.0.0.0\", 'server.socket_port':8099 } )\n",
        "cherrypy.quickstart( application() )"
      ],
      "metadata": {
        "id": "YIhzBjnyrhvU",
        "colab": {
          "base_uri": "https://localhost:8080/",
          "height": 364
        },
        "outputId": "418cabdc-6f53-4801-b45d-de7d0a51ccd6"
      },
      "execution_count": null,
      "outputs": [
        {
          "output_type": "stream",
          "name": "stdout",
          "text": [
            "CLICK THIS LINK -->  https://e8bacfh8oxp-496ff2e9c6d22116-8099-colab.googleusercontent.com/ \n",
            "\n",
            "\n"
          ]
        },
        {
          "output_type": "stream",
          "name": "stderr",
          "text": [
            "[07/Oct/2024:08:11:33] ENGINE Listening for SIGTERM.\n",
            "INFO:cherrypy.error:[07/Oct/2024:08:11:33] ENGINE Listening for SIGTERM.\n",
            "[07/Oct/2024:08:11:34] ENGINE Listening for SIGHUP.\n",
            "INFO:cherrypy.error:[07/Oct/2024:08:11:34] ENGINE Listening for SIGHUP.\n",
            "[07/Oct/2024:08:11:34] ENGINE Listening for SIGUSR1.\n",
            "INFO:cherrypy.error:[07/Oct/2024:08:11:34] ENGINE Listening for SIGUSR1.\n",
            "[07/Oct/2024:08:11:34] ENGINE Bus STARTING\n",
            "INFO:cherrypy.error:[07/Oct/2024:08:11:34] ENGINE Bus STARTING\n",
            "CherryPy Checker:\n",
            "The Application mounted at '' has an empty config.\n",
            "\n",
            "[07/Oct/2024:08:11:34] ENGINE Started monitor thread 'Autoreloader'.\n",
            "INFO:cherrypy.error:[07/Oct/2024:08:11:34] ENGINE Started monitor thread 'Autoreloader'.\n",
            "[07/Oct/2024:08:11:34] ENGINE Serving on http://0.0.0.0:8099\n",
            "INFO:cherrypy.error:[07/Oct/2024:08:11:34] ENGINE Serving on http://0.0.0.0:8099\n",
            "[07/Oct/2024:08:11:34] ENGINE Bus STARTED\n",
            "INFO:cherrypy.error:[07/Oct/2024:08:11:34] ENGINE Bus STARTED\n"
          ]
        }
      ]
    }
  ]
}