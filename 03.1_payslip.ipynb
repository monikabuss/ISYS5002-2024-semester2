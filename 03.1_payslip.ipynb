{
  "cells": [
    {
      "cell_type": "markdown",
      "metadata": {
        "id": "kF8ldRydTDPx"
      },
      "source": [
        "# Payslip\n",
        "\n",
        "A payslip is a document that shows their total wages earned for a set period.\n",
        "This might be from a salary, hourly wages or commission. Payslips are also know as ‘pay advice’.  Traditionally the payslip was a paper document attached. Today\n",
        "most organisations provide them electronically.\n",
        "\n",
        "## Task 0 - Import into GitHub\n",
        "First, import the notebook into Colab and save an initial copy to GitHub.\n",
        "\n",
        "## Task 1 - Start Simple\n",
        "\n",
        "Writing complete robust programs can take time.  Often the more we understand a problem the easier it is to implement the solution.   One approach is to implement the simplest version of a program and then slowly add functionality.\n",
        "\n",
        "This notebook aims to start simple and slowly build up the program.\n",
        "The approach we take below is one way to understand a problem, step 1 of our development process. Complex projects, often follow a similar idea\n",
        "where they implement a minimal program, and each week or month has intense periods where the team adds functionality.  These advanced methodologies are beyond the scope of an introductory programming course but by starting small and slowly adding functionality we do capture the essence of the process.\n",
        "\n",
        "\n",
        "### The Initial (minimal) Program\n",
        "\n",
        "Consider 'Ram' who has a salary of \\$25,000.  They have sold goods worth $20,000 and earn a 2% commission on the sales. They fall into the 10% tax bracket. We will talk about tax brackets in another notebook. Before making payments the organisation needs to deduct 10% tax.\n",
        "\n",
        "We need to program to print out a payslip for salespeople. Our payslip\n",
        "is very simple, we need a title, the amount of salary, the amount of commission, the amount of tax, and the total pay.\n",
        "\n",
        "Run the following program for one person."
      ]
    },
    {
      "cell_type": "code",
      "execution_count": 4,
      "metadata": {
        "id": "2UenEHfcTuLz",
        "colab": {
          "base_uri": "https://localhost:8080/"
        },
        "outputId": "b0b4a9f0-8cbb-40a2-c4b0-ae8ad3d3f8ae"
      },
      "outputs": [
        {
          "output_type": "stream",
          "name": "stdout",
          "text": [
            "=== Payslip of Ram ===\n",
            "Salary:     25000 \n",
            "Commission: 400.0 \n",
            "Tax:        2540.0\n",
            "Total pay:  22860.0\n"
          ]
        }
      ],
      "source": [
        "# assign values for salar and sales -- integer\n",
        "salary = 25000\n",
        "sales = 20000\n",
        "\n",
        "# calculate the commision with 0.02 or 2/100\n",
        "commission = 0.02 * sales\n",
        "\n",
        "# calculate the tax\n",
        "tax = (salary + commission) * 0.10\n",
        "\n",
        "# calculate the pay\n",
        "pay = salary + commission - tax\n",
        "\n",
        "# print the payslip\n",
        "print('=== Payslip of Ram ===')\n",
        "print(f\"Salary: {salary:9} \\nCommission: {commission:} \\nTax: {tax:13}\")\n",
        "print(f\"Total pay: {pay:8}\")\n"
      ]
    },
    {
      "cell_type": "markdown",
      "metadata": {
        "id": "QzcJGzRBUDz2"
      },
      "source": [
        "Now, consider 'Radha' who has a salary of \\$30,000.  They have sold goods worth $40,000 and earns 2.5% commision on the sales. They fall into the 10% tax bracket and so before making payments we need to deduct 10% form their total payout."
      ]
    },
    {
      "cell_type": "code",
      "execution_count": 6,
      "metadata": {
        "id": "wFmuD9ujUgDW",
        "colab": {
          "base_uri": "https://localhost:8080/"
        },
        "outputId": "5d88513c-e2d1-4b85-cfd8-d35b1085a8d4"
      },
      "outputs": [
        {
          "output_type": "stream",
          "name": "stdout",
          "text": [
            "=== Payslip of Radha ===\n",
            "Salary:     30000 \n",
            "Commission: 1000.0 \n",
            "Tax:        3100.0\n",
            "Total pay:  27900.0\n"
          ]
        }
      ],
      "source": [
        "# assign values for salar and sales\n",
        "salary_radha = 30000\n",
        "sales_radha = 40000\n",
        "\n",
        "# calculate the commision\n",
        "commission_radha = 0.025 * sales_radha\n",
        "\n",
        "# calculate the tax\n",
        "tax_radha = (salary_radha + commission_radha) * 0.10\n",
        "\n",
        "# calculate the pay\n",
        "pay_radha = salary_radha + commission_radha - tax_radha\n",
        "\n",
        "# print the payslip\n",
        "print('=== Payslip of Radha ===')\n",
        "print(f\"Salary: {salary_radha:9} \\nCommission: {commission_radha:} \\nTax: {tax_radha:13}\")\n",
        "print(f\"Total pay: {pay_radha:8}\")"
      ]
    },
    {
      "cell_type": "markdown",
      "metadata": {
        "id": "UFGObxq7UlvE"
      },
      "source": [
        "## Task 2 - Generalise\n",
        "\n",
        "What details did we change from Ram to Radha?"
      ]
    },
    {
      "cell_type": "markdown",
      "source": [
        "salary, sales, commission rate, name"
      ],
      "metadata": {
        "id": "Uvpnstgxcp_5"
      }
    },
    {
      "cell_type": "code",
      "execution_count": 29,
      "metadata": {
        "id": "zMEi9q1dUr36"
      },
      "outputs": [],
      "source": [
        "def calculate_pay(salary,commission,tax_rate, commission_rate):\n",
        "    commission = commission_rate * sales\n",
        "    tax = (salary + commission) * tax_rate\n",
        "    pay = salary + commission - tax\n",
        "    return pay\n",
        "  #salary, commission= sales * commission rate, tax"
      ]
    },
    {
      "cell_type": "markdown",
      "source": [],
      "metadata": {
        "id": "Lpy_rgw7coHD"
      }
    },
    {
      "cell_type": "markdown",
      "metadata": {
        "id": "7PrlmDmYV6iX"
      },
      "source": [
        "Make what we changed as inputs (parameters) to a function"
      ]
    },
    {
      "cell_type": "code",
      "execution_count": null,
      "metadata": {
        "id": "cJwgf8nZWDF6"
      },
      "outputs": [],
      "source": [
        "a=int(input(\"Give me your salary \"))\n",
        "b=int(input(\"Give me your sales \"))\n",
        "c=float(input(\"Give me your tax rate \"))\n",
        "d=float(input(\"Give me your commission rate \"))\n",
        "calculate_pay(a,b,c,d)"
      ]
    },
    {
      "cell_type": "code",
      "source": [
        " def print_payslip(name, salary, commission, tax, pay):\n",
        "  print(f\"=== Payslip of {name:2} ===\")\n",
        "  print(f\"Salary: {salary:9} \\nCommission: {commission:} \\nTax: {tax:13}\")\n",
        "  print(f\"Total pay: {pay:8}\")"
      ],
      "metadata": {
        "id": "A6RHytv7iJNj"
      },
      "execution_count": 42,
      "outputs": []
    },
    {
      "cell_type": "code",
      "source": [
        "print_payslip('Sisi', 5000, 200, 520, 4680)"
      ],
      "metadata": {
        "id": "vr3xqqqeioZ-",
        "outputId": "eca5cbb4-a750-4581-a78f-6b9a99f471ab",
        "colab": {
          "base_uri": "https://localhost:8080/"
        }
      },
      "execution_count": 43,
      "outputs": [
        {
          "output_type": "stream",
          "name": "stdout",
          "text": [
            "=== Payslip of Sisi ===\n",
            "Salary:      5000 \n",
            "Commission: 200 \n",
            "Tax:           520\n",
            "Total pay:     4680\n"
          ]
        }
      ]
    },
    {
      "cell_type": "code",
      "source": [
        "n=input(\"Give me your name \")\n",
        "a=int(input(\"Give me your salary \"))\n",
        "b=int(input(\"Give me your sales \"))\n",
        "c=float(input(\"Give me your tax rate \"))\n",
        "d=float(input(\"Give me your commission rate \"))\n",
        "\n"
      ],
      "metadata": {
        "id": "lut8JNRijJ6x",
        "outputId": "2c1b782d-5858-4deb-b60e-eebd51b6f956",
        "colab": {
          "base_uri": "https://localhost:8080/"
        }
      },
      "execution_count": 49,
      "outputs": [
        {
          "name": "stdout",
          "output_type": "stream",
          "text": [
            "Give me your name Radha\n",
            "Give me your salary 30000\n",
            "Give me your sales 40000\n",
            "Give me your tax rate 0.1\n",
            "Give me your commission rate 0.025\n"
          ]
        }
      ]
    },
    {
      "cell_type": "code",
      "source": [
        "calculate_pay(a,b,c,d)\n",
        "print_payslip(n,a,b,c,d)"
      ],
      "metadata": {
        "id": "mRlGBffVlPIw"
      },
      "execution_count": null,
      "outputs": []
    }
  ],
  "metadata": {
    "colab": {
      "provenance": []
    },
    "kernelspec": {
      "display_name": "Python 3",
      "language": "python",
      "name": "python3"
    },
    "language_info": {
      "codemirror_mode": {
        "name": "ipython",
        "version": 3
      },
      "file_extension": ".py",
      "mimetype": "text/x-python",
      "name": "python",
      "nbconvert_exporter": "python",
      "pygments_lexer": "ipython3",
      "version": "3.8.8"
    }
  },
  "nbformat": 4,
  "nbformat_minor": 0
}