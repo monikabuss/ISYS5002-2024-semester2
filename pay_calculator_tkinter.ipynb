{
  "nbformat": 4,
  "nbformat_minor": 0,
  "metadata": {
    "colab": {
      "provenance": [],
      "include_colab_link": true
    },
    "kernelspec": {
      "name": "python3",
      "display_name": "Python 3"
    },
    "language_info": {
      "name": "python"
    }
  },
  "cells": [
    {
      "cell_type": "markdown",
      "metadata": {
        "id": "view-in-github",
        "colab_type": "text"
      },
      "source": [
        "<a href=\"https://colab.research.google.com/github/monikabuss/ISYS5002-2024-semester2/blob/main/pay_calculator_tkinter.ipynb\" target=\"_parent\"><img src=\"https://colab.research.google.com/assets/colab-badge.svg\" alt=\"Open In Colab\"/></a>"
      ]
    },
    {
      "cell_type": "markdown",
      "source": [
        "# Pay Calculator\n",
        "\n",
        "Use this calculator to quickly estimate how much tax you will pay on your weekly income. This calculator conforms to official Australian Tax Office rates and formulas.\n"
      ],
      "metadata": {
        "id": "U19jneZPPOk6"
      }
    },
    {
      "cell_type": "code",
      "source": [
        "#@title\n",
        "from datetime import date\n",
        "\n",
        "def calculate_ato_tax(income):\n",
        "  '''\n",
        "  Calculate the tax payable on yearly income based on the Australian Tax\n",
        "  Office Resident tax rates 2021–22 Taxable Income\n",
        "  '''\n",
        "  tax_payable = 0 # if income <= 18200:\n",
        "  if 18201 <= income <= 45000:\n",
        "    tax_payable = 0.19 * (income - 18200)\n",
        "  elif 45001 <= income <= 120000:\n",
        "    tax_payable = 5092 + 0.32 * (income - 45000)\n",
        "  elif 120001 <= income <= 180000:\n",
        "    tax_payable = 29467 + 0.37 * (income - 120000)\n",
        "  elif income >= 180001:\n",
        "    tax_payable = 51667 + 0.45 * (income - 180000)\n",
        "  return tax_payable\n",
        "\n",
        "def print_payslip(name, date, salary, sales):\n",
        "  commission = sales * 0.02\n",
        "  earnings = salary + commission\n",
        "  income = earnings * 52\n",
        "  tax = calculate_ato_tax(income) / 52\n",
        "  pay = earnings - tax\n",
        "\n",
        "  # Print pay slip\n",
        "  print(f'Payslip of {name} for week {date}')\n",
        "  print(f'Weekly Salary: ${salary:.2f} Commission: ${commission:.2f} Tax: ${tax:.2f}')\n",
        "  print(f'Take Home Pay ${pay:.2f}')\n",
        "\n"
      ],
      "metadata": {
        "id": "BkFBsstuuVzd"
      },
      "execution_count": null,
      "outputs": []
    },
    {
      "cell_type": "markdown",
      "source": [
        "# GUI Framework: tkinter\n",
        "\n",
        "Python has a lot of GUI frameworks, but Tkinter is the only framework built into the Python standard library. Tkinter works on Windows, macOS, and Linux.   If you want a shiny, modern interface, then Tkinter may not be what you’re looking for, but Tkinter is lightweight and relatively easy to use compared to other frameworks. These make it a compelling choice for building GUI applications in Python.\n",
        "\n",
        "# How to run\n",
        "\n",
        "This wont run on Google Colab (or any cloud instance).  To run the code form the File menu:\n",
        "\n",
        "    File --> Download -> Download.py\n",
        "\n",
        "This will downlad the notebook as a pytohn script.  Then if 'Python' is installed on the downloaded computer type the following command\n",
        "\n",
        "    python payslip.tkinter.py\n"
      ],
      "metadata": {
        "id": "SWoHWrvFiLZ8"
      }
    },
    {
      "cell_type": "code",
      "source": [
        "from tkinter import *\n",
        "from tkinter import messagebox\n",
        "from datetime import date\n",
        "import sys\n",
        "\n",
        "# Capture standard output, so print() stored in as a string\n",
        "text = ''\n",
        "def redirector(inputStr):\n",
        "  global text\n",
        "  text = text + inputStr\n",
        "sys.stdout.write = redirector\n",
        "\n",
        "\n",
        "window = Tk()\n",
        "window.title(\"Pay Calculator\")\n",
        "window.geometry('210x120')\n",
        "\n",
        "name_lbl = Label(window, text=\"Name\")\n",
        "name_lbl.grid(column=0, row=0)\n",
        "name_txt = Entry(window,width=15)\n",
        "name_txt.grid(column=1, row=0)\n",
        "\n",
        "# want to run using Python buitin libraries and not have to\n",
        "# install more packages no default datepicker, use a text field for demo\n",
        "cal_lbl = Label(window, text='Choose date')\n",
        "cal_lbl.grid(column=0, row=1)\n",
        "cal_txt = Entry(window,width=15)\n",
        "cal_txt.grid(column=1, row=1)\n",
        "\n",
        "salary_lbl = Label(window, text=\"Salary\")\n",
        "salary_lbl.grid(column=0, row=2)\n",
        "salary_txt = Entry(window,width=15)\n",
        "salary_txt.grid(column=1, row=2)\n",
        "\n",
        "sales_lbl = Label(window, text=\"Sales\")\n",
        "sales_lbl.grid(column=0, row=3)\n",
        "sales_txt = Entry(window,width=15)\n",
        "sales_txt.grid(column=1, row=3)\n",
        "\n",
        "def calculate():\n",
        "    name = name_txt.get()\n",
        "    date = cal_txt.get()\n",
        "    salary = float(salary_txt.get())\n",
        "    sales = float(sales_txt.get())\n",
        "    print_payslip(name, date, salary, sales)\n",
        "    global text\n",
        "    messagebox.showinfo('Pay Slip', text)\n",
        "\n",
        "calculate_btn = Button(window, text=\"Calculate\", command=calculate)\n",
        "calculate_btn.grid(column=1, row=4)\n",
        "\n",
        "def close():\n",
        "   window.quit()\n",
        "\n",
        "quit_btn = Button(window, text=\"Exit\", command=close)\n",
        "quit_btn.grid(column=2, row=4)\n",
        "\n",
        "window.mainloop()"
      ],
      "metadata": {
        "id": "LgCt5wn3iH64"
      },
      "execution_count": null,
      "outputs": []
    }
  ]
}