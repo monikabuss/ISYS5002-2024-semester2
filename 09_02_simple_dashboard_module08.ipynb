{
  "nbformat": 4,
  "nbformat_minor": 0,
  "metadata": {
    "colab": {
      "provenance": [],
      "include_colab_link": true
    },
    "kernelspec": {
      "name": "python3",
      "display_name": "Python 3"
    },
    "language_info": {
      "name": "python"
    }
  },
  "cells": [
    {
      "cell_type": "markdown",
      "metadata": {
        "id": "view-in-github",
        "colab_type": "text"
      },
      "source": [
        "<a href=\"https://colab.research.google.com/github/monikabuss/ISYS5002-2024-semester2/blob/main/09_02_simple_dashboard_module08.ipynb\" target=\"_parent\"><img src=\"https://colab.research.google.com/assets/colab-badge.svg\" alt=\"Open In Colab\"/></a>"
      ]
    },
    {
      "cell_type": "markdown",
      "source": [
        "in this notebook we will work with"
      ],
      "metadata": {
        "id": "Qfa5x7P93mTL"
      }
    },
    {
      "cell_type": "markdown",
      "source": [
        "## Import libraries and establish database connection"
      ],
      "metadata": {
        "id": "KOgL3mvnHLRL"
      }
    },
    {
      "cell_type": "code",
      "source": [
        "import sqlite3\n",
        "import pandas as pd\n",
        "import matplotlib.pyplot as plt"
      ],
      "metadata": {
        "id": "XKzZAbXUYR8z"
      },
      "execution_count": 11,
      "outputs": []
    },
    {
      "cell_type": "code",
      "execution_count": 12,
      "metadata": {
        "id": "BVP_4_ABXorf"
      },
      "outputs": [],
      "source": [
        "connection = sqlite3.connect('superheroes.db')\n",
        "cursor = connection.cursor() #something like 'row' returned from a table"
      ]
    },
    {
      "cell_type": "code",
      "source": [
        "sql='''\n",
        "SELECT name FROM sqlite_master WHERE type='table';\n",
        "'''\n",
        "cursor.execute(sql)\n",
        "cursor.fetchall()"
      ],
      "metadata": {
        "id": "rxpl_c3CKPEx",
        "colab": {
          "base_uri": "https://localhost:8080/"
        },
        "outputId": "fc97c605-39c6-4d4c-eda2-7436eb34e6ba"
      },
      "execution_count": 13,
      "outputs": [
        {
          "output_type": "execute_result",
          "data": {
            "text/plain": [
              "[]"
            ]
          },
          "metadata": {},
          "execution_count": 13
        }
      ]
    },
    {
      "cell_type": "code",
      "source": [
        "sql='''\n",
        "PRAGMA table_info('your_table');\n",
        "'''\n",
        "cursor.execute(sql)\n",
        "cursor.fetchall()\n",
        "cursor.execute(sql)\n",
        "all_results = cursor.fetchall()\n",
        "all_results"
      ],
      "metadata": {
        "id": "8D95UeonckOp",
        "colab": {
          "base_uri": "https://localhost:8080/"
        },
        "outputId": "cbcbeaf7-7e75-432b-a8e0-897ab1558041"
      },
      "execution_count": 14,
      "outputs": [
        {
          "output_type": "execute_result",
          "data": {
            "text/plain": [
              "[]"
            ]
          },
          "metadata": {},
          "execution_count": 14
        }
      ]
    },
    {
      "cell_type": "markdown",
      "source": [
        "## Load the table into Pandas dataframe"
      ],
      "metadata": {
        "id": "0JNNuA4xYk4x"
      }
    },
    {
      "cell_type": "code",
      "source": [
        "sql='''\n",
        "SELECT * from superheroes;\n",
        "'''\n",
        "cursor.execute(sql)\n",
        "cursor.fetchall()\n",
        "cursor.execute(sql)\n",
        "all_results = cursor.fetchall()\n",
        "all_results\n",
        "\n",
        "# Load the data into a DataFrame\n",
        "superheroes_df = pd.read_sql_query(sql, connection)\n",
        "\n",
        "\n",
        "df = superheroes_df\n",
        "df"
      ],
      "metadata": {
        "id": "AzqRgdtMYhzh",
        "colab": {
          "base_uri": "https://localhost:8080/",
          "height": 211
        },
        "outputId": "193b8b67-2763-4253-f60d-fe4021630aab"
      },
      "execution_count": 21,
      "outputs": [
        {
          "output_type": "error",
          "ename": "OperationalError",
          "evalue": "no such table: superheroes",
          "traceback": [
            "\u001b[0;31m---------------------------------------------------------------------------\u001b[0m",
            "\u001b[0;31mOperationalError\u001b[0m                          Traceback (most recent call last)",
            "\u001b[0;32m<ipython-input-21-b987700f4a49>\u001b[0m in \u001b[0;36m<cell line: 4>\u001b[0;34m()\u001b[0m\n\u001b[1;32m      2\u001b[0m \u001b[0mSELECT\u001b[0m \u001b[0;34m*\u001b[0m \u001b[0;32mfrom\u001b[0m \u001b[0msuperheroes\u001b[0m\u001b[0;34m;\u001b[0m\u001b[0;34m\u001b[0m\u001b[0;34m\u001b[0m\u001b[0m\n\u001b[1;32m      3\u001b[0m '''\n\u001b[0;32m----> 4\u001b[0;31m \u001b[0mcursor\u001b[0m\u001b[0;34m.\u001b[0m\u001b[0mexecute\u001b[0m\u001b[0;34m(\u001b[0m\u001b[0msql\u001b[0m\u001b[0;34m)\u001b[0m\u001b[0;34m\u001b[0m\u001b[0;34m\u001b[0m\u001b[0m\n\u001b[0m\u001b[1;32m      5\u001b[0m \u001b[0mcursor\u001b[0m\u001b[0;34m.\u001b[0m\u001b[0mfetchall\u001b[0m\u001b[0;34m(\u001b[0m\u001b[0;34m)\u001b[0m\u001b[0;34m\u001b[0m\u001b[0;34m\u001b[0m\u001b[0m\n\u001b[1;32m      6\u001b[0m \u001b[0mcursor\u001b[0m\u001b[0;34m.\u001b[0m\u001b[0mexecute\u001b[0m\u001b[0;34m(\u001b[0m\u001b[0msql\u001b[0m\u001b[0;34m)\u001b[0m\u001b[0;34m\u001b[0m\u001b[0;34m\u001b[0m\u001b[0m\n",
            "\u001b[0;31mOperationalError\u001b[0m: no such table: superheroes"
          ]
        }
      ]
    },
    {
      "cell_type": "markdown",
      "source": [
        "## Analyse Superheroes' Alignment based on Gender"
      ],
      "metadata": {
        "id": "xPZm3hq7eR_w"
      }
    },
    {
      "cell_type": "markdown",
      "source": [
        "### Analyse and Visualise - Male superheroes Alignment"
      ],
      "metadata": {
        "id": "lMmLb8ddHpbq"
      }
    },
    {
      "cell_type": "code",
      "source": [
        "# Filter data for male superheroes\n",
        "male_superheroes = df[df['gender'] == 'Male']\n",
        "\n",
        "# Get alignment distribution for male superheroes\n",
        "male_alignment_counts = male_superheroes['alignment'].value_counts()\n",
        "\n",
        "male_alignment_counts"
      ],
      "metadata": {
        "id": "jXZ-woFL4GSW",
        "colab": {
          "base_uri": "https://localhost:8080/",
          "height": 211
        },
        "outputId": "253ab8bb-4a2e-4c4d-d326-bf37456d5ad4"
      },
      "execution_count": 18,
      "outputs": [
        {
          "output_type": "error",
          "ename": "NameError",
          "evalue": "name 'df' is not defined",
          "traceback": [
            "\u001b[0;31m---------------------------------------------------------------------------\u001b[0m",
            "\u001b[0;31mNameError\u001b[0m                                 Traceback (most recent call last)",
            "\u001b[0;32m<ipython-input-18-b91f2d1075a0>\u001b[0m in \u001b[0;36m<cell line: 2>\u001b[0;34m()\u001b[0m\n\u001b[1;32m      1\u001b[0m \u001b[0;31m# Filter data for male superheroes\u001b[0m\u001b[0;34m\u001b[0m\u001b[0;34m\u001b[0m\u001b[0m\n\u001b[0;32m----> 2\u001b[0;31m \u001b[0mmale_superheroes\u001b[0m \u001b[0;34m=\u001b[0m \u001b[0mdf\u001b[0m\u001b[0;34m[\u001b[0m\u001b[0mdf\u001b[0m\u001b[0;34m[\u001b[0m\u001b[0;34m'gender'\u001b[0m\u001b[0;34m]\u001b[0m \u001b[0;34m==\u001b[0m \u001b[0;34m'Male'\u001b[0m\u001b[0;34m]\u001b[0m\u001b[0;34m\u001b[0m\u001b[0;34m\u001b[0m\u001b[0m\n\u001b[0m\u001b[1;32m      3\u001b[0m \u001b[0;34m\u001b[0m\u001b[0m\n\u001b[1;32m      4\u001b[0m \u001b[0;31m# Get alignment distribution for male superheroes\u001b[0m\u001b[0;34m\u001b[0m\u001b[0;34m\u001b[0m\u001b[0m\n\u001b[1;32m      5\u001b[0m \u001b[0mmale_alignment_counts\u001b[0m \u001b[0;34m=\u001b[0m \u001b[0mmale_superheroes\u001b[0m\u001b[0;34m[\u001b[0m\u001b[0;34m'alignment'\u001b[0m\u001b[0;34m]\u001b[0m\u001b[0;34m.\u001b[0m\u001b[0mvalue_counts\u001b[0m\u001b[0;34m(\u001b[0m\u001b[0;34m)\u001b[0m\u001b[0;34m\u001b[0m\u001b[0;34m\u001b[0m\u001b[0m\n",
            "\u001b[0;31mNameError\u001b[0m: name 'df' is not defined"
          ]
        }
      ]
    },
    {
      "cell_type": "code",
      "source": [
        "plt.bar(male_alignment_counts.index, male_alignment_counts.values)\n",
        "plt.xlabel('Alignment')\n",
        "plt.ylabel('Count')\n",
        "plt.title('Figure 1: Alignment Distribution for Male Superheroes')\n",
        "plt.show()"
      ],
      "metadata": {
        "colab": {
          "base_uri": "https://localhost:8080/",
          "height": 211
        },
        "id": "enE5W4J68HMI",
        "outputId": "bea3b642-6a3e-4cb1-9965-0d2a1b5ae518"
      },
      "execution_count": 16,
      "outputs": [
        {
          "output_type": "error",
          "ename": "NameError",
          "evalue": "name 'male_alignment_counts' is not defined",
          "traceback": [
            "\u001b[0;31m---------------------------------------------------------------------------\u001b[0m",
            "\u001b[0;31mNameError\u001b[0m                                 Traceback (most recent call last)",
            "\u001b[0;32m<ipython-input-16-d8282aeaf902>\u001b[0m in \u001b[0;36m<cell line: 1>\u001b[0;34m()\u001b[0m\n\u001b[0;32m----> 1\u001b[0;31m \u001b[0mplt\u001b[0m\u001b[0;34m.\u001b[0m\u001b[0mbar\u001b[0m\u001b[0;34m(\u001b[0m\u001b[0mmale_alignment_counts\u001b[0m\u001b[0;34m.\u001b[0m\u001b[0mindex\u001b[0m\u001b[0;34m,\u001b[0m \u001b[0mmale_alignment_counts\u001b[0m\u001b[0;34m.\u001b[0m\u001b[0mvalues\u001b[0m\u001b[0;34m)\u001b[0m\u001b[0;34m\u001b[0m\u001b[0;34m\u001b[0m\u001b[0m\n\u001b[0m\u001b[1;32m      2\u001b[0m \u001b[0mplt\u001b[0m\u001b[0;34m.\u001b[0m\u001b[0mxlabel\u001b[0m\u001b[0;34m(\u001b[0m\u001b[0;34m'Alignment'\u001b[0m\u001b[0;34m)\u001b[0m\u001b[0;34m\u001b[0m\u001b[0;34m\u001b[0m\u001b[0m\n\u001b[1;32m      3\u001b[0m \u001b[0mplt\u001b[0m\u001b[0;34m.\u001b[0m\u001b[0mylabel\u001b[0m\u001b[0;34m(\u001b[0m\u001b[0;34m'Count'\u001b[0m\u001b[0;34m)\u001b[0m\u001b[0;34m\u001b[0m\u001b[0;34m\u001b[0m\u001b[0m\n\u001b[1;32m      4\u001b[0m \u001b[0mplt\u001b[0m\u001b[0;34m.\u001b[0m\u001b[0mtitle\u001b[0m\u001b[0;34m(\u001b[0m\u001b[0;34m'Figure 1: Alignment Distribution for Male Superheroes'\u001b[0m\u001b[0;34m)\u001b[0m\u001b[0;34m\u001b[0m\u001b[0;34m\u001b[0m\u001b[0m\n\u001b[1;32m      5\u001b[0m \u001b[0mplt\u001b[0m\u001b[0;34m.\u001b[0m\u001b[0mshow\u001b[0m\u001b[0;34m(\u001b[0m\u001b[0;34m)\u001b[0m\u001b[0;34m\u001b[0m\u001b[0;34m\u001b[0m\u001b[0m\n",
            "\u001b[0;31mNameError\u001b[0m: name 'male_alignment_counts' is not defined"
          ]
        }
      ]
    },
    {
      "cell_type": "markdown",
      "source": [
        "### Task: Analyse and visualise the distribution of alignments for female superheroes"
      ],
      "metadata": {
        "id": "3G_nvY0v3e8l"
      }
    },
    {
      "cell_type": "code",
      "source": [
        "# Filter data for female superheroes\n",
        "female_superheroes = df[df['gender'] == 'Female']\n",
        "\n",
        "# Get alignment distribution for male superheroes\n",
        "female_alignment_counts = female_superheroes['alignment'].value_counts()\n",
        "\n",
        "female_alignment_counts"
      ],
      "metadata": {
        "id": "cJZhncre_XZ8",
        "colab": {
          "base_uri": "https://localhost:8080/",
          "height": 211
        },
        "outputId": "2b9d124b-942d-40f8-cb18-c29791219885"
      },
      "execution_count": 20,
      "outputs": [
        {
          "output_type": "error",
          "ename": "NameError",
          "evalue": "name 'df' is not defined",
          "traceback": [
            "\u001b[0;31m---------------------------------------------------------------------------\u001b[0m",
            "\u001b[0;31mNameError\u001b[0m                                 Traceback (most recent call last)",
            "\u001b[0;32m<ipython-input-20-19f5bfdfd8a2>\u001b[0m in \u001b[0;36m<cell line: 2>\u001b[0;34m()\u001b[0m\n\u001b[1;32m      1\u001b[0m \u001b[0;31m# Filter data for female superheroes\u001b[0m\u001b[0;34m\u001b[0m\u001b[0;34m\u001b[0m\u001b[0m\n\u001b[0;32m----> 2\u001b[0;31m \u001b[0mfemale_superheroes\u001b[0m \u001b[0;34m=\u001b[0m \u001b[0mdf\u001b[0m\u001b[0;34m[\u001b[0m\u001b[0mdf\u001b[0m\u001b[0;34m[\u001b[0m\u001b[0;34m'gender'\u001b[0m\u001b[0;34m]\u001b[0m \u001b[0;34m==\u001b[0m \u001b[0;34m'Female'\u001b[0m\u001b[0;34m]\u001b[0m\u001b[0;34m\u001b[0m\u001b[0;34m\u001b[0m\u001b[0m\n\u001b[0m\u001b[1;32m      3\u001b[0m \u001b[0;34m\u001b[0m\u001b[0m\n\u001b[1;32m      4\u001b[0m \u001b[0;31m# Get alignment distribution for male superheroes\u001b[0m\u001b[0;34m\u001b[0m\u001b[0;34m\u001b[0m\u001b[0m\n\u001b[1;32m      5\u001b[0m \u001b[0mfemale_alignment_counts\u001b[0m \u001b[0;34m=\u001b[0m \u001b[0mfemale_superheroes\u001b[0m\u001b[0;34m[\u001b[0m\u001b[0;34m'alignment'\u001b[0m\u001b[0;34m]\u001b[0m\u001b[0;34m.\u001b[0m\u001b[0mvalue_counts\u001b[0m\u001b[0;34m(\u001b[0m\u001b[0;34m)\u001b[0m\u001b[0;34m\u001b[0m\u001b[0;34m\u001b[0m\u001b[0m\n",
            "\u001b[0;31mNameError\u001b[0m: name 'df' is not defined"
          ]
        }
      ]
    },
    {
      "cell_type": "code",
      "source": [
        "plt.bar(female_alignment_counts.index, female_alignment_counts.values)\n",
        "plt.xlabel('Alignment')\n",
        "plt.ylabel('Count')\n",
        "plt.title('Figure 2: Alignment Distribution for Feale Superheroes')\n",
        "plt.show()"
      ],
      "metadata": {
        "colab": {
          "base_uri": "https://localhost:8080/",
          "height": 211
        },
        "id": "j8eY-ucV8eqR",
        "outputId": "b9aa752f-b352-429c-8e75-5f47fec60981"
      },
      "execution_count": 19,
      "outputs": [
        {
          "output_type": "error",
          "ename": "NameError",
          "evalue": "name 'female_alignment_counts' is not defined",
          "traceback": [
            "\u001b[0;31m---------------------------------------------------------------------------\u001b[0m",
            "\u001b[0;31mNameError\u001b[0m                                 Traceback (most recent call last)",
            "\u001b[0;32m<ipython-input-19-66e38b624875>\u001b[0m in \u001b[0;36m<cell line: 1>\u001b[0;34m()\u001b[0m\n\u001b[0;32m----> 1\u001b[0;31m \u001b[0mplt\u001b[0m\u001b[0;34m.\u001b[0m\u001b[0mbar\u001b[0m\u001b[0;34m(\u001b[0m\u001b[0mfemale_alignment_counts\u001b[0m\u001b[0;34m.\u001b[0m\u001b[0mindex\u001b[0m\u001b[0;34m,\u001b[0m \u001b[0mfemale_alignment_counts\u001b[0m\u001b[0;34m.\u001b[0m\u001b[0mvalues\u001b[0m\u001b[0;34m)\u001b[0m\u001b[0;34m\u001b[0m\u001b[0;34m\u001b[0m\u001b[0m\n\u001b[0m\u001b[1;32m      2\u001b[0m \u001b[0mplt\u001b[0m\u001b[0;34m.\u001b[0m\u001b[0mxlabel\u001b[0m\u001b[0;34m(\u001b[0m\u001b[0;34m'Alignment'\u001b[0m\u001b[0;34m)\u001b[0m\u001b[0;34m\u001b[0m\u001b[0;34m\u001b[0m\u001b[0m\n\u001b[1;32m      3\u001b[0m \u001b[0mplt\u001b[0m\u001b[0;34m.\u001b[0m\u001b[0mylabel\u001b[0m\u001b[0;34m(\u001b[0m\u001b[0;34m'Count'\u001b[0m\u001b[0;34m)\u001b[0m\u001b[0;34m\u001b[0m\u001b[0;34m\u001b[0m\u001b[0m\n\u001b[1;32m      4\u001b[0m \u001b[0mplt\u001b[0m\u001b[0;34m.\u001b[0m\u001b[0mtitle\u001b[0m\u001b[0;34m(\u001b[0m\u001b[0;34m'Figure 2: Alignment Distribution for Feale Superheroes'\u001b[0m\u001b[0;34m)\u001b[0m\u001b[0;34m\u001b[0m\u001b[0;34m\u001b[0m\u001b[0m\n\u001b[1;32m      5\u001b[0m \u001b[0mplt\u001b[0m\u001b[0;34m.\u001b[0m\u001b[0mshow\u001b[0m\u001b[0;34m(\u001b[0m\u001b[0;34m)\u001b[0m\u001b[0;34m\u001b[0m\u001b[0;34m\u001b[0m\u001b[0m\n",
            "\u001b[0;31mNameError\u001b[0m: name 'female_alignment_counts' is not defined"
          ]
        }
      ]
    },
    {
      "cell_type": "markdown",
      "source": [
        "## Using Golab Forms: Alignment Distribution by Superhero Gender"
      ],
      "metadata": {
        "id": "zftxVGrrPsMa"
      }
    },
    {
      "cell_type": "code",
      "source": [
        "# @title Superheroes Alignment by Gender\n",
        "Gender =\"Male\" # @param [\"Male\",\"Female\"]\n",
        "\n",
        "if Gender == 'Male':\n",
        "  print(\"===Male Superheroes Distribution===\")\n",
        "\n",
        "  #Filter data for male superheroes\n",
        "  male_superheroes = df[df['gender'] == 'Male']\n",
        "\n",
        "  #Get alignment distribution for male superheroes\n",
        "  male_alignment_counts = male_superheroes['alignment'].value_counts()\n",
        "\n",
        "  #Generate plot\n",
        "  plt.bar(male_alignment_counts.index, male_alignment_counts.values)\n",
        "  plt.xlabel('Alignment')\n",
        "  plt.ylabel('Count')\n",
        "  plt.title('Figure 1: Alignment Distribution for Male Superheroes')\n",
        "  plt.show()\n",
        "\n",
        "else:\n",
        "  print(\"===Female Superheroes Distribution===\")\n",
        "\n",
        "  #Filter data for male superheroes\n",
        "  female_superheroes = df[df['gender'] == 'Female']\n",
        "\n",
        "  #Get alignment distribution for male superheroes\n",
        "  female_alignment_counts = female_superheroes['alignment'].value_counts()\n",
        "\n",
        "  #Generate plot\n",
        "  plt.bar(female_alignment_counts.index, female_alignment_counts.values)\n",
        "  plt.xlabel('Alignment')\n",
        "  plt.ylabel('Count')\n",
        "  plt.title('Figure 2: Alignment Distribution for Female Superheroes')\n",
        "  plt.show()"
      ],
      "metadata": {
        "id": "M0MXkioiTbEY",
        "colab": {
          "base_uri": "https://localhost:8080/",
          "height": 228
        },
        "outputId": "3c8b2897-e08f-47bd-ff1a-8b1824cde793"
      },
      "execution_count": 23,
      "outputs": [
        {
          "output_type": "stream",
          "name": "stdout",
          "text": [
            "===Male Superheroes Distribution===\n"
          ]
        },
        {
          "output_type": "error",
          "ename": "NameError",
          "evalue": "name 'df' is not defined",
          "traceback": [
            "\u001b[0;31m---------------------------------------------------------------------------\u001b[0m",
            "\u001b[0;31mNameError\u001b[0m                                 Traceback (most recent call last)",
            "\u001b[0;32m<ipython-input-23-bfd450701eee>\u001b[0m in \u001b[0;36m<cell line: 4>\u001b[0;34m()\u001b[0m\n\u001b[1;32m      6\u001b[0m \u001b[0;34m\u001b[0m\u001b[0m\n\u001b[1;32m      7\u001b[0m   \u001b[0;31m#Filter data for male superheroes\u001b[0m\u001b[0;34m\u001b[0m\u001b[0;34m\u001b[0m\u001b[0m\n\u001b[0;32m----> 8\u001b[0;31m   \u001b[0mmale_superheroes\u001b[0m \u001b[0;34m=\u001b[0m \u001b[0mdf\u001b[0m\u001b[0;34m[\u001b[0m\u001b[0mdf\u001b[0m\u001b[0;34m[\u001b[0m\u001b[0;34m'gender'\u001b[0m\u001b[0;34m]\u001b[0m \u001b[0;34m==\u001b[0m \u001b[0;34m'Male'\u001b[0m\u001b[0;34m]\u001b[0m\u001b[0;34m\u001b[0m\u001b[0;34m\u001b[0m\u001b[0m\n\u001b[0m\u001b[1;32m      9\u001b[0m \u001b[0;34m\u001b[0m\u001b[0m\n\u001b[1;32m     10\u001b[0m   \u001b[0;31m#Get alignment distribution for male superheroes\u001b[0m\u001b[0;34m\u001b[0m\u001b[0;34m\u001b[0m\u001b[0m\n",
            "\u001b[0;31mNameError\u001b[0m: name 'df' is not defined"
          ]
        }
      ]
    },
    {
      "cell_type": "markdown",
      "source": [
        "### Task: Analyse and Visualise using pie chart and google form"
      ],
      "metadata": {
        "id": "RE4ZWIQPQSla"
      }
    },
    {
      "cell_type": "code",
      "source": [],
      "metadata": {
        "id": "Q95LB0JWSitp"
      },
      "execution_count": null,
      "outputs": []
    },
    {
      "cell_type": "markdown",
      "source": [
        "### Task: How about giving option for either pie or bar or both charts?"
      ],
      "metadata": {
        "id": "OinRGruWSYTJ"
      }
    },
    {
      "cell_type": "code",
      "source": [],
      "metadata": {
        "id": "hUoaQHNISf-p"
      },
      "execution_count": null,
      "outputs": []
    }
  ]
}