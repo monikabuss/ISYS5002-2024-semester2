{
  "cells": [
    {
      "cell_type": "markdown",
      "metadata": {
        "id": "view-in-github",
        "colab_type": "text"
      },
      "source": [
        "<a href=\"https://colab.research.google.com/github/monikabuss/ISYS5002-2024-semester2/blob/main/05_3__Python_Dictionary.ipynb\" target=\"_parent\"><img src=\"https://colab.research.google.com/assets/colab-badge.svg\" alt=\"Open In Colab\"/></a>"
      ]
    },
    {
      "cell_type": "markdown",
      "id": "e4d8cca6",
      "metadata": {
        "id": "e4d8cca6"
      },
      "source": [
        "\n",
        "# Managing Student Data with Python\n",
        "\n",
        "In this lesson, we'll explore different methods of managing student data for a course. We'll begin with a simple approach using lists and then demonstrate the power of dictionaries for more effective data management. Finally, we'll expand our data model to include not just student IDs and marks, but also names, showcasing the flexibility of dictionaries.\n"
      ]
    },
    {
      "cell_type": "markdown",
      "id": "2f8d270e",
      "metadata": {
        "id": "2f8d270e"
      },
      "source": [
        "\n",
        "## Introduction to Python Lists and Dictionaries\n",
        "\n",
        "- **Lists** are ordered collections of items that can be of mixed types. Lists are mutable, allowing modification after creation.\n",
        "- **Dictionaries** are unordered collections of key-value pairs. They allow for fast retrieval, addition, and removal of items by key.\n"
      ]
    },
    {
      "cell_type": "markdown",
      "id": "8867d81c",
      "metadata": {
        "id": "8867d81c"
      },
      "source": [
        "\n",
        "### Part 1: Storing Student Data with Lists\n",
        "\n",
        "Initially, we might consider using lists to store student IDs and their corresponding marks. Let's see how that would look.\n"
      ]
    },
    {
      "cell_type": "code",
      "execution_count": 1,
      "id": "071ce1a7",
      "metadata": {
        "id": "071ce1a7",
        "outputId": "21710bef-fcaa-48b4-daa9-a4110eb7c1d6",
        "colab": {
          "base_uri": "https://localhost:8080/"
        }
      },
      "outputs": [
        {
          "output_type": "stream",
          "name": "stdout",
          "text": [
            "Mark of student S002: 92\n"
          ]
        }
      ],
      "source": [
        "student_ids = ['S001', 'S002', 'S003', 'S004']\n",
        "student_marks = [88, 92, 75, 63]\n",
        "\n",
        "# Accessing the mark of the second student\n",
        "print(f\"Mark of student {student_ids[1]}: {student_marks[1]}\")\n"
      ]
    },
    {
      "cell_type": "code",
      "source": [
        "student_ids = ['S001', 'S002', 'S003', 'S004']\n",
        "student_marks = [88, 92, 75, 63]\n",
        "\n",
        "# Accessing the mark of the first student\n",
        "print(f\"Mark of student {student_ids[0]}: {student_marks[0]}\")"
      ],
      "metadata": {
        "id": "ErqTpbO4pJ3E",
        "outputId": "79dea9de-8f46-4b89-ae78-4813c7766c36",
        "colab": {
          "base_uri": "https://localhost:8080/"
        }
      },
      "id": "ErqTpbO4pJ3E",
      "execution_count": 2,
      "outputs": [
        {
          "output_type": "stream",
          "name": "stdout",
          "text": [
            "Mark of student S001: 88\n"
          ]
        }
      ]
    },
    {
      "cell_type": "markdown",
      "id": "5dd8067d",
      "metadata": {
        "id": "5dd8067d"
      },
      "source": [
        "\n",
        "While lists allow us to store related data, maintaining two parallel lists can be cumbersome and error-prone, especially as data grows or changes.\n"
      ]
    },
    {
      "cell_type": "markdown",
      "id": "415f8435",
      "metadata": {
        "id": "415f8435"
      },
      "source": [
        "\n",
        "## Transitioning to Dictionaries\n",
        "\n",
        "Dictionaries provide a more robust and intuitive way to link student IDs directly to their marks, eliminating the need for parallel lists.\n"
      ]
    },
    {
      "cell_type": "markdown",
      "id": "3e5014b0",
      "metadata": {
        "id": "3e5014b0"
      },
      "source": [
        "\n",
        "### Part 2: Improving with Dictionaries\n",
        "\n",
        "Now, let's reimplement our data storage using a dictionary.\n"
      ]
    },
    {
      "cell_type": "code",
      "execution_count": 4,
      "id": "bd0449d5",
      "metadata": {
        "id": "bd0449d5",
        "outputId": "9c068078-bcc4-4449-de22-237e7cae5ba9",
        "colab": {
          "base_uri": "https://localhost:8080/"
        }
      },
      "outputs": [
        {
          "output_type": "stream",
          "name": "stdout",
          "text": [
            "Mark of student S002: 92\n"
          ]
        }
      ],
      "source": [
        "\n",
        "student_marks = {\n",
        "    'S001': 88,\n",
        "    'S002': 92,\n",
        "    'S003': 75,\n",
        "    'S004': 63\n",
        "}\n",
        "\n",
        "# Accessing the mark of student S002\n",
        "print(f\"Mark of student S002: {student_marks['S002']}\")\n"
      ]
    },
    {
      "cell_type": "code",
      "source": [
        "student_marks['S003']"
      ],
      "metadata": {
        "id": "xsn3YBhqWO1a",
        "outputId": "48d32862-8352-45b1-f580-bbdc37f5412b",
        "colab": {
          "base_uri": "https://localhost:8080/"
        }
      },
      "id": "xsn3YBhqWO1a",
      "execution_count": 5,
      "outputs": [
        {
          "output_type": "execute_result",
          "data": {
            "text/plain": [
              "75"
            ]
          },
          "metadata": {},
          "execution_count": 5
        }
      ]
    },
    {
      "cell_type": "markdown",
      "id": "e0ac3295",
      "metadata": {
        "id": "e0ac3295"
      },
      "source": [
        "\n",
        "### Part 3: Expanding the Data Model\n",
        "\n",
        "Dictionaries aren't just limited to storing pairs of keys and values; they can store complex nested data. Let's expand our model to include student names.\n"
      ]
    },
    {
      "cell_type": "code",
      "execution_count": 15,
      "id": "bd82a7e6",
      "metadata": {
        "id": "bd82a7e6",
        "outputId": "c9efeae8-681f-4b2a-8345-ee4e3c229ffb",
        "colab": {
          "base_uri": "https://localhost:8080/"
        }
      },
      "outputs": [
        {
          "output_type": "stream",
          "name": "stdout",
          "text": [
            "Name: Monika, Mark: 100\n"
          ]
        }
      ],
      "source": [
        "\n",
        "student_info = {\n",
        "    'S001': {'name': 'Alice', 'mark': 88},\n",
        "    'S002': {'name': 'Bob', 'mark': 92},\n",
        "    'S003': {'name': 'Charlie', 'mark': 75},\n",
        "    'S004': {'name': 'Diana', 'mark': 63},\n",
        "    'S457': {'name': 'Monika', 'mark': 100}\n",
        "}\n",
        "\n",
        "# Accessing the name and mark of student S002\n",
        "student = student_info['S457']\n",
        "print(f\"Name: {student['name']}, Mark: {student['mark']}\")\n"
      ]
    },
    {
      "cell_type": "code",
      "source": [
        "student_monika = student_info['S457']\n",
        "student"
      ],
      "metadata": {
        "id": "B6_zS05JWplU",
        "outputId": "3e6e913b-66d2-45fa-83e6-10c12ad7c864",
        "colab": {
          "base_uri": "https://localhost:8080/"
        }
      },
      "id": "B6_zS05JWplU",
      "execution_count": 16,
      "outputs": [
        {
          "output_type": "execute_result",
          "data": {
            "text/plain": [
              "{'name': 'Monika', 'mark': 100}"
            ]
          },
          "metadata": {},
          "execution_count": 16
        }
      ]
    },
    {
      "cell_type": "code",
      "source": [
        "student_monika['name']"
      ],
      "metadata": {
        "id": "soXzTE30W2hN",
        "outputId": "c5a73bc7-b53e-422a-8a68-94d80d6df698",
        "colab": {
          "base_uri": "https://localhost:8080/",
          "height": 35
        }
      },
      "id": "soXzTE30W2hN",
      "execution_count": 13,
      "outputs": [
        {
          "output_type": "execute_result",
          "data": {
            "text/plain": [
              "'Monika'"
            ],
            "application/vnd.google.colaboratory.intrinsic+json": {
              "type": "string"
            }
          },
          "metadata": {},
          "execution_count": 13
        }
      ]
    },
    {
      "cell_type": "code",
      "source": [
        "student_monika['mark']"
      ],
      "metadata": {
        "id": "R2CFmZpdW7Xc",
        "outputId": "bc742867-2942-45b9-8907-6ae75794ca37",
        "colab": {
          "base_uri": "https://localhost:8080/"
        }
      },
      "id": "R2CFmZpdW7Xc",
      "execution_count": 14,
      "outputs": [
        {
          "output_type": "execute_result",
          "data": {
            "text/plain": [
              "100"
            ]
          },
          "metadata": {},
          "execution_count": 14
        }
      ]
    },
    {
      "cell_type": "markdown",
      "id": "95302522",
      "metadata": {
        "id": "95302522"
      },
      "source": [
        "\n",
        "## Conclusion\n",
        "\n",
        "Through this lesson, we've seen how to evolve from using lists to dictionaries for managing student data, demonstrating the increased efficiency and flexibility dictionaries provide. We also explored nested dictionaries for handling more complex data structures.\n",
        "\n",
        "### Exercises\n",
        "\n",
        "1. Add a new student to the `student_info` dictionary.\n",
        "2. Update the mark for a student.\n",
        "3. Remove a student from the `student_info` dictionary.\n",
        "4. Iterate over the `student_info` dictionary to print out each student's name and mark.\n"
      ]
    },
    {
      "cell_type": "code",
      "source": [
        "# Add a new student to the student_info dictionary.\n"
      ],
      "metadata": {
        "id": "Wo4ghNztZUyK"
      },
      "id": "Wo4ghNztZUyK",
      "execution_count": null,
      "outputs": []
    },
    {
      "cell_type": "code",
      "source": [],
      "metadata": {
        "id": "EtVkaaMqZvFk"
      },
      "id": "EtVkaaMqZvFk",
      "execution_count": null,
      "outputs": []
    },
    {
      "cell_type": "code",
      "source": [
        "# Update the mark for a student.\n",
        "student_info['S457']['mark'] = 89"
      ],
      "metadata": {
        "id": "TWGsW2qEZUoa"
      },
      "id": "TWGsW2qEZUoa",
      "execution_count": 17,
      "outputs": []
    },
    {
      "cell_type": "code",
      "source": [
        "student_monika['mark']"
      ],
      "metadata": {
        "id": "n1ceAK6RZ-bU",
        "outputId": "8e1cfb52-5ed8-4062-d3b5-93d2bd812860",
        "colab": {
          "base_uri": "https://localhost:8080/"
        }
      },
      "id": "n1ceAK6RZ-bU",
      "execution_count": 18,
      "outputs": [
        {
          "output_type": "execute_result",
          "data": {
            "text/plain": [
              "89"
            ]
          },
          "metadata": {},
          "execution_count": 18
        }
      ]
    },
    {
      "cell_type": "code",
      "source": [
        "# Remove a student from the student_info dictionary\n",
        "# pop Method: The pop method removes the specified key from the dictionary and returns the corresponding value.\n"
      ],
      "metadata": {
        "id": "X1anX-W9ZUfr"
      },
      "id": "X1anX-W9ZUfr",
      "execution_count": null,
      "outputs": []
    },
    {
      "cell_type": "code",
      "source": [
        "student_info.popitem()"
      ],
      "metadata": {
        "id": "eoDZpZcDaqgl",
        "outputId": "0bceab32-6ea3-4545-88a6-66f3d6807f82",
        "colab": {
          "base_uri": "https://localhost:8080/"
        }
      },
      "id": "eoDZpZcDaqgl",
      "execution_count": 20,
      "outputs": [
        {
          "output_type": "execute_result",
          "data": {
            "text/plain": [
              "('S457', {'name': 'Monika', 'mark': 89})"
            ]
          },
          "metadata": {},
          "execution_count": 20
        }
      ]
    },
    {
      "cell_type": "code",
      "source": [
        "student_info"
      ],
      "metadata": {
        "id": "D4rF8DnazsDh",
        "outputId": "718e6891-d797-4a5e-8bf1-acd5daa9c746",
        "colab": {
          "base_uri": "https://localhost:8080/"
        }
      },
      "id": "D4rF8DnazsDh",
      "execution_count": 21,
      "outputs": [
        {
          "output_type": "execute_result",
          "data": {
            "text/plain": [
              "{'S001': {'name': 'Alice', 'mark': 88},\n",
              " 'S002': {'name': 'Bob', 'mark': 92},\n",
              " 'S003': {'name': 'Charlie', 'mark': 75},\n",
              " 'S004': {'name': 'Diana', 'mark': 63}}"
            ]
          },
          "metadata": {},
          "execution_count": 21
        }
      ]
    },
    {
      "cell_type": "code",
      "source": [
        "# del Statement: The del statement deletes a key-value pair from the dictionary."
      ],
      "metadata": {
        "id": "xxF2Q8WBaoJE"
      },
      "id": "xxF2Q8WBaoJE",
      "execution_count": null,
      "outputs": []
    },
    {
      "cell_type": "code",
      "source": [
        "del student_info[\"S002\"]"
      ],
      "metadata": {
        "id": "_4v4RSk7ayot"
      },
      "id": "_4v4RSk7ayot",
      "execution_count": 22,
      "outputs": []
    },
    {
      "cell_type": "code",
      "source": [
        "student_info"
      ],
      "metadata": {
        "id": "-XCbe9IUz6Xy",
        "outputId": "aa3f864a-d525-42ce-b723-6d93e07be852",
        "colab": {
          "base_uri": "https://localhost:8080/"
        }
      },
      "id": "-XCbe9IUz6Xy",
      "execution_count": 24,
      "outputs": [
        {
          "output_type": "execute_result",
          "data": {
            "text/plain": [
              "{'S001': {'name': 'Alice', 'mark': 88},\n",
              " 'S003': {'name': 'Charlie', 'mark': 75},\n",
              " 'S004': {'name': 'Diana', 'mark': 63}}"
            ]
          },
          "metadata": {},
          "execution_count": 24
        }
      ]
    },
    {
      "cell_type": "code",
      "source": [
        "# Iterate over the student_info dictionary to print out each student's name and mark.\n",
        "for name, mark in student_info.items():\n",
        "  print(\"Name \", name)\n",
        "  print(\"mark \", mark)\n"
      ],
      "metadata": {
        "id": "pYHNWFalZUWT",
        "outputId": "09167b51-18bb-4eca-e186-17320353bd32",
        "colab": {
          "base_uri": "https://localhost:8080/"
        }
      },
      "id": "pYHNWFalZUWT",
      "execution_count": 25,
      "outputs": [
        {
          "output_type": "stream",
          "name": "stdout",
          "text": [
            "Name  S001\n",
            "mark  {'name': 'Alice', 'mark': 88}\n",
            "Name  S003\n",
            "mark  {'name': 'Charlie', 'mark': 75}\n",
            "Name  S004\n",
            "mark  {'name': 'Diana', 'mark': 63}\n"
          ]
        }
      ]
    }
  ],
  "metadata": {
    "colab": {
      "provenance": [],
      "include_colab_link": true
    },
    "language_info": {
      "name": "python"
    },
    "kernelspec": {
      "name": "python3",
      "display_name": "Python 3"
    }
  },
  "nbformat": 4,
  "nbformat_minor": 5
}