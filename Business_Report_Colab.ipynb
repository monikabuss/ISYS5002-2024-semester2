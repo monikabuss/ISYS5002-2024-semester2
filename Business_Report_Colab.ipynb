{
  "nbformat": 4,
  "nbformat_minor": 0,
  "metadata": {
    "colab": {
      "provenance": [],
      "include_colab_link": true
    },
    "kernelspec": {
      "name": "python3",
      "display_name": "Python 3"
    },
    "language_info": {
      "name": "python"
    }
  },
  "cells": [
    {
      "cell_type": "markdown",
      "metadata": {
        "id": "view-in-github",
        "colab_type": "text"
      },
      "source": [
        "<a href=\"https://colab.research.google.com/github/monikabuss/ISYS5002-2024-semester2/blob/main/Business_Report_Colab.ipynb\" target=\"_parent\"><img src=\"https://colab.research.google.com/assets/colab-badge.svg\" alt=\"Open In Colab\"/></a>"
      ]
    },
    {
      "cell_type": "markdown",
      "source": [
        "### Cardiovascular Health Business Report Notebook"
      ],
      "metadata": {
        "id": "SLc9hhIoElEf"
      }
    },
    {
      "cell_type": "code",
      "execution_count": null,
      "metadata": {
        "id": "s8Rc9Wv4kQQj"
      },
      "outputs": [],
      "source": [
        "#See \"11_Superhero_business_report_using_GUI_Wed4PM.ipynb\" from last lab on how to structure the report\n",
        "#See lab around 9.38/9.40 am"
      ]
    },
    {
      "cell_type": "markdown",
      "source": [
        "**Overview**"
      ],
      "metadata": {
        "id": "D_ULGyjrE3Ma"
      }
    },
    {
      "cell_type": "markdown",
      "source": [
        "***Problem solving Methodology***\n",
        "\n",
        "The process of problem-solving can be broken down into six steps:\n",
        "1.\tState the problem clearly\n",
        "2.\tDescribe the input and output\n",
        "3.\tWork a simple example by hand\n",
        "4.\tDevelop an algorithm/pseudocode\n",
        "5.\tConvert to Python\n",
        "6.\tTest solution with a variety of data"
      ],
      "metadata": {
        "id": "V_Zdx9yUuF4L"
      }
    },
    {
      "cell_type": "markdown",
      "source": [
        "##1. State that problem clearly\n",
        "Cardiovascular health is important tp take intp consideration when analyzing health and wellbeing. Cardiovascular health cause some of the leading deathcauses worldwide, and it has become an important to understand how and what lifestyle choices and medicine are neccesairy to prevent cardiovascular deaseses.\n",
        "\n",
        "To understand these lifestyle choices and medicins, we need to look at the relationship between demographics, health and lifestyle factors."
      ],
      "metadata": {
        "id": "H2J6MeJGuOzR"
      }
    },
    {
      "cell_type": "markdown",
      "source": [
        "##2. Describe the input and output\n",
        "\n",
        "Input for analysis: ... dataset as SQLite database\n",
        "Output:\n",
        "\n",
        "- Describe it using words as well\n",
        "\n",
        "| input | processing | output|\n",
        "|-------|------------|-------|\n",
        "|age  |    |     |\n",
        "|gender|    |     |\n",
        "|height  |    |     |\n",
        "|weight  |    |     |\n",
        "|ap_hi  |    |     |\n",
        "|ap_lo  |    |     |\n",
        "|cholesterol  |    |     |\n",
        "|gluc  |    |     |\n",
        "|smoke  |    |     |\n",
        "|alco  |    |     |\n",
        "|active  |    |     |\n",
        "|cardio  |    |     |\n",
        "\n",
        "\n"
      ],
      "metadata": {
        "id": "-SWQPVEEuQ9y"
      }
    }
  ]
}