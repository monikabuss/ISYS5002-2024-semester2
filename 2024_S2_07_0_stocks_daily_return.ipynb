{
  "cells": [
    {
      "cell_type": "markdown",
      "source": [
        "# Module CSV"
      ],
      "metadata": {
        "id": "BieUazgSLMeI"
      }
    },
    {
      "cell_type": "markdown",
      "metadata": {
        "id": "KiOs3fgB9CD8"
      },
      "source": [
        "### Reading and Writing CSV file\n",
        "\n",
        "Text files work fine when we are referencing small amounts of information, but when we use larger amounts of data, adding structure helps in organizing and retrieving values.\n",
        "\n",
        "One common format found in business and social sciences alike (as well as any field concerned with data science) is the comma-separated values (CSV) format.\n",
        "\n",
        "**CSV files** are the most common format used for importing and exporting data from spreadsheets and databases.\n",
        "\n",
        "CSV files are text files that have delimiters.  A **delimiter** is a character that separates data values.\n",
        "\n",
        "You can explore CSV files in spreadsheet software (such as Microsoft Excel), which will remove delimiters (usually commas) and store data values in separate cells.\n",
        "\n",
        "\n",
        "One of the benefits of importing data files such as CSV files is the ability to read in a lot of data at once, parsing the data so your code can access individual values within the data. **By default, CSV files use commas (“,”) to separate data values**.\n",
        "\n"
      ]
    },
    {
      "cell_type": "markdown",
      "source": [
        "## Working with large CSV file"
      ],
      "metadata": {
        "id": "e79alZIOnrfL"
      }
    },
    {
      "cell_type": "code",
      "source": [
        "# Install the yfinance package, which is used to download financial data\n",
        "\n",
        "!pip install yfinance"
      ],
      "metadata": {
        "id": "RYGMDPPh9QDh"
      },
      "execution_count": null,
      "outputs": []
    },
    {
      "cell_type": "code",
      "source": [
        "# Import the yfinance library for accessing financial data from Yahoo Finance\n",
        "\n",
        "import yfinance as yf"
      ],
      "metadata": {
        "id": "P9DJI_pW9TsQ"
      },
      "execution_count": null,
      "outputs": []
    },
    {
      "cell_type": "code",
      "source": [
        "# Define the stock ticker symbol\n",
        "\n",
        "ticker = 'NAB.AX'"
      ],
      "metadata": {
        "id": "8GAvnDIQ9a34"
      },
      "execution_count": null,
      "outputs": []
    },
    {
      "cell_type": "code",
      "source": [
        "# Downloads historical stock data for NAB from Yahoo Finance for the specified date range.\n",
        "\n",
        "NAB_data = yf.download(ticker, start=\"2023-09-09\", end=\"2024-09-09\")"
      ],
      "metadata": {
        "id": "0v1a6gfXIdf_"
      },
      "execution_count": null,
      "outputs": []
    },
    {
      "cell_type": "code",
      "source": [
        "# Saves the downloaded data to a CSV file named \"NABData.csv\".\n",
        "\n",
        "NAB_data.to_csv(\"NABData.csv\")"
      ],
      "metadata": {
        "id": "JgzkaUMh9vBR"
      },
      "execution_count": null,
      "outputs": []
    },
    {
      "cell_type": "code",
      "source": [
        "import csv\n",
        "\n",
        "#open file and write records\n",
        "with open(\"NABData.csv\", 'r')  as data:\n",
        "  reader = csv.reader(data)\n",
        "  print(next(reader))\n",
        "  print(next(reader))\n",
        "  print(next(reader))\n"
      ],
      "metadata": {
        "id": "8Mr72pnuwVt-"
      },
      "execution_count": null,
      "outputs": []
    },
    {
      "cell_type": "code",
      "source": [
        "import csv\n",
        "\n",
        "# initialize two empty lists, date and close, where the extracted data will be stored later\n",
        "date = []\n",
        "close = []\n",
        "\n",
        "# open file and write records\n",
        "with open(\"NABData.csv\", 'r')  as data: # opens the file named \"NABData.csv\" in read mode ('r')\n",
        "\n",
        "  # creates a CSV reader object reader by passing the file object data to the csv.reader() function.\n",
        "  # This reader will allow us to iterate through the rows of the CSV file.\n",
        "  reader = csv.reader(data)\n",
        "  header = next(reader, None) # reads the first row of the CSV file using the next() function, which advances the reader to the next row. This is often done to skip the header row that contains column names.\n",
        "  #print(header)\n",
        "  for record in reader:\n",
        "    date.append(record[0]) # extracts the value from the first column of the current record and appends it to the date list\n",
        "    close.append(float(record[5])) # extracts the value from the sixth column of the current record, converts it to a floating-point number using the float() function, and then appends it to the close list\n",
        "\n",
        "# plot the results\n",
        "from matplotlib import pyplot as plt\n",
        "f = plt.figure()\n",
        "f.set_figwidth(20)\n",
        "f.set_figheight(5)\n",
        "plt.xticks(rotation=45)\n",
        "plt.plot(date, close)\n"
      ],
      "metadata": {
        "id": "BWv-WdWQrrIE"
      },
      "execution_count": null,
      "outputs": []
    },
    {
      "cell_type": "markdown",
      "source": [
        "# Module Pandas"
      ],
      "metadata": {
        "id": "3urnKWF4LPwK"
      }
    },
    {
      "cell_type": "markdown",
      "metadata": {
        "id": "fKUibINgWaEg"
      },
      "source": [
        "## Using Pandas Module to Read in CSV Files (the “Easy Way”)\n",
        "\n",
        "An easier method of importing files into Python is using the **Pandas** module. Pandas (name derived from “panel data”) is a data analysis library that, among other things, makes reading in CSV files and accessing the contained data much easier\n",
        "\n",
        "The primary data structure used in Pandas are a ***DataFrame***. A DataFrame has a *two-dimensional tabular format using rows and columns*. Using a DataFrame, we can reference columns by name, rather than having to count to figure out which column number we want. Pandas provides an assortment of methods like .mean() that will do summary statistics on our data\n",
        "\n",
        "\n",
        "Read From a CSV File Using Pandas\n",
        "\n",
        "Source: *Kaefer, F., & Kaefer, P. (2020). Introduction to Python\n",
        "Programming for Business and Social Science Applications. SAGE Publications, Inc. (US).*"
      ]
    },
    {
      "cell_type": "code",
      "source": [
        "# Install the yfinance package, which is used to download financial data\n"
      ],
      "metadata": {
        "id": "xUGtfR1RIoT3"
      },
      "execution_count": null,
      "outputs": []
    },
    {
      "cell_type": "code",
      "source": [
        "# Import the yfinance library for accessing financial data from Yahoo Finance\n",
        "\n",
        "\n",
        "# Define the stock ticker symbol 'BHP.AX'\n",
        "\n",
        "\n",
        "# Downloads historical stock data for ticker from Yahoo Finance for the specified date range.\n",
        "\n",
        "\n",
        "# Saves the downloaded data to a CSV file named \"<name>Data.csv\".\n"
      ],
      "metadata": {
        "id": "5a7dapSFIoT4"
      },
      "execution_count": null,
      "outputs": []
    },
    {
      "cell_type": "code",
      "source": [
        "import pandas as pd"
      ],
      "metadata": {
        "id": "w2lywU8aUQZc"
      },
      "execution_count": null,
      "outputs": []
    },
    {
      "cell_type": "code",
      "source": [
        "df = pd.read_csv('BHPData.csv')"
      ],
      "metadata": {
        "id": "ZDuW1sV0UTSO"
      },
      "execution_count": null,
      "outputs": []
    },
    {
      "cell_type": "code",
      "source": [
        "df"
      ],
      "metadata": {
        "id": "7cQZmICtU04e"
      },
      "execution_count": null,
      "outputs": []
    },
    {
      "cell_type": "code",
      "source": [
        "df.head()"
      ],
      "metadata": {
        "id": "Zy9i_bptVHnR"
      },
      "execution_count": null,
      "outputs": []
    },
    {
      "cell_type": "code",
      "source": [
        "df.tail()"
      ],
      "metadata": {
        "id": "lmp6fC-kVLLJ"
      },
      "execution_count": null,
      "outputs": []
    },
    {
      "cell_type": "code",
      "source": [
        "df.info()"
      ],
      "metadata": {
        "id": "Dw5Y51RVVVwe"
      },
      "execution_count": null,
      "outputs": []
    },
    {
      "cell_type": "code",
      "source": [
        "df.describe()"
      ],
      "metadata": {
        "id": "P1tmEJamVdWG"
      },
      "execution_count": null,
      "outputs": []
    },
    {
      "cell_type": "code",
      "source": [
        "df[10:20] # retrieve a subset of rows from the DataFrame df, starting from the row with index 10 and ending with the row with index 19"
      ],
      "metadata": {
        "id": "Fdn_fXlxVPp-"
      },
      "execution_count": null,
      "outputs": []
    },
    {
      "cell_type": "code",
      "source": [
        "# extract two columns from the df\n",
        "df[['Date', 'Adj Close']]"
      ],
      "metadata": {
        "id": "eM3-msBysbG9"
      },
      "execution_count": null,
      "outputs": []
    },
    {
      "cell_type": "code",
      "source": [
        "# create a new data frame that contains only Date and Adj Close columns\n",
        "df_data = df[['Date', 'Adj Close']]"
      ],
      "metadata": {
        "id": "oQPEWIw0zzId"
      },
      "execution_count": null,
      "outputs": []
    },
    {
      "cell_type": "code",
      "source": [
        "df_data"
      ],
      "metadata": {
        "id": "IEdywx20sial"
      },
      "execution_count": null,
      "outputs": []
    },
    {
      "cell_type": "code",
      "source": [
        "from matplotlib import pyplot as plt\n",
        "\n",
        "plt.plot(df_data['Date'], df_data['Adj Close'])\n"
      ],
      "metadata": {
        "id": "XD7ZFYrQs2dG"
      },
      "execution_count": null,
      "outputs": []
    },
    {
      "cell_type": "markdown",
      "source": [
        "### Operations on data - E.g.: Calculate daily return\n",
        "\n",
        "In finance, the term \"daily return\" refers to the percentage change in the value of an asset or investment from one trading day to the next. It is a measure of how much an asset's price has changed over a single trading day. Daily returns are commonly used to assess the performance of investments, analyze market trends, and calculate risk metrics.\n",
        "\n",
        "```\n",
        "Daily return = [(today's price - yesterday's price) / yesterday's price]\n",
        "```\n",
        "\n",
        "For example, if we have an initial value of 100 and the price increased to 110, the daily return would be [(110 - 100) / 100] = 0.10 or 10%. This formula calculates the proportion of the change as a decimal value.\n"
      ],
      "metadata": {
        "id": "9-kQYdnY7-o4"
      }
    },
    {
      "cell_type": "code",
      "source": [
        "df"
      ],
      "metadata": {
        "id": "RuMRlxwDtsWY"
      },
      "execution_count": null,
      "outputs": []
    },
    {
      "cell_type": "code",
      "source": [
        "# shift the values in the 'Adj Close' column by one position (one day back).\n",
        "# add a new column named 'shift(1)' to the DataFrame 'df'\n",
        "\n",
        "\n"
      ],
      "metadata": {
        "id": "a99bMpX6uld5"
      },
      "execution_count": null,
      "outputs": []
    },
    {
      "cell_type": "code",
      "source": [
        "df.head()"
      ],
      "metadata": {
        "id": "6BKMma1tvDb6"
      },
      "execution_count": null,
      "outputs": []
    },
    {
      "cell_type": "code",
      "source": [
        "'''\n",
        "Calculates the daily return for the 'Adj Close' values in the DataFrame\n",
        "Subtracts the previous day's 'Adj Close' value from the current day's 'Adj Close' value\n",
        "and then divides by the previous day's 'Adj Close' value, and then multiplies by 100 to express the result as a percentage change.\n",
        "'''\n",
        "\n"
      ],
      "metadata": {
        "id": "9oCJKaNRyoF1"
      },
      "execution_count": null,
      "outputs": []
    },
    {
      "cell_type": "code",
      "source": [
        "'''\n",
        "The calculated daily return values are stored in a new column named 'daily_return' in the DataFrame df\n",
        "'''\n"
      ],
      "metadata": {
        "id": "b-o3kRkEC6N4"
      },
      "execution_count": null,
      "outputs": []
    },
    {
      "cell_type": "code",
      "source": [
        "# The calculated daily return values are stored in a new column named 'daily_return' in the DataFrame df\n",
        "df"
      ],
      "metadata": {
        "id": "9rsiLxLRqW0c"
      },
      "execution_count": null,
      "outputs": []
    },
    {
      "cell_type": "code",
      "source": [
        "# plot graph Date and 'daily_return'\n",
        "import matplotlib.pyplot as plt\n",
        "\n"
      ],
      "metadata": {
        "id": "p4rJ0XAbYeb6"
      },
      "execution_count": null,
      "outputs": []
    },
    {
      "cell_type": "markdown",
      "source": [
        "## Daily Return of Stock Data\n",
        "\n",
        "### Daily Return formula\n",
        "\n",
        "Visiting a financial website that provides stock price information. Type a company’s name or its stock’s ticker symbol. Find in the historical prices section the stock’s closing price for any two consecutive days. For example, assume a stock’s closing price was \\$36.75 yesterday and that its closing price was \\$35.50 the previous day. Subtract the previous day’s closing price from the most recent day’s closing price. In this example, subtract \\$35.50 from \\$36.75 to get \\$1.25.\n",
        "\n",
        "Now divide the results by the previous day's closing prices to calculate the daily return.  Multiply this by 100 to convert to a percentage.  So $1.25 divided by #35.50 equals 0.035.  Multiply 0.035 by 100 to 3.5 percent.\n",
        "\n",
        "    Daily return = (Today prices - Yesterday price) / Yesterday price\n",
        "\n",
        "\n",
        "\n",
        "To find the URL, navigate to Yahoo finance, type in NAB.AX, click the 'Historical' tab.  towards the right is a download option.  right click on the download link and select 'Copy Link Address' form the popup menu.  Now paste to the URL assignment statement."
      ],
      "metadata": {
        "id": "QqhiTK-eOCYC"
      }
    },
    {
      "cell_type": "code",
      "source": [],
      "metadata": {
        "id": "L4l3gXQgOZAb"
      },
      "execution_count": null,
      "outputs": []
    },
    {
      "cell_type": "markdown",
      "metadata": {
        "id": "gTo3bmwTEAbJ"
      },
      "source": [
        "Sources:\n",
        "\n",
        "*Kaefer, F., & Kaefer, P. (2020). Introduction to Python\n",
        "Programming for Business and Social Science Applications. SAGE Publications, Inc. (US).*\n",
        "\n",
        "*Tony Gaddis, Starting out with Python, 5th Edition*\n",
        "\n",
        "*Deitel & Deitel, Intro to Python for Computer Science and Data Science, Global Edition*\n"
      ]
    }
  ],
  "metadata": {
    "colab": {
      "provenance": [],
      "collapsed_sections": [
        "KiOs3fgB9CD8"
      ]
    },
    "kernelspec": {
      "display_name": "Python 3",
      "name": "python3"
    },
    "language_info": {
      "name": "python"
    }
  },
  "nbformat": 4,
  "nbformat_minor": 0
}